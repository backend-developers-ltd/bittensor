{
 "cells": [
  {
   "cell_type": "code",
   "execution_count": 135,
   "metadata": {},
   "outputs": [
    {
     "name": "stdout",
     "output_type": "stream",
     "text": [
      "Requirement already satisfied: nest-asyncio in /Users/const/.pyenv/versions/3.7.3/lib/python3.7/site-packages (1.4.1)\n",
      "Requirement already satisfied: seaborn in /Users/const/.pyenv/versions/3.7.3/lib/python3.7/site-packages (0.11.0)\n",
      "Requirement already satisfied: scipy>=1.0 in /Users/const/.pyenv/versions/3.7.3/lib/python3.7/site-packages (from seaborn) (1.4.1)\n",
      "Requirement already satisfied: pandas>=0.23 in /Users/const/.pyenv/versions/3.7.3/lib/python3.7/site-packages (from seaborn) (1.1.2)\n",
      "Requirement already satisfied: matplotlib>=2.2 in /Users/const/.pyenv/versions/3.7.3/lib/python3.7/site-packages (from seaborn) (3.3.2)\n",
      "Requirement already satisfied: numpy>=1.15 in /Users/const/.pyenv/versions/3.7.3/lib/python3.7/site-packages (from seaborn) (1.19.2)\n",
      "Requirement already satisfied: pillow>=6.2.0 in /Users/const/.pyenv/versions/3.7.3/lib/python3.7/site-packages (from matplotlib>=2.2->seaborn) (7.2.0)\n",
      "Requirement already satisfied: pyparsing!=2.0.4,!=2.1.2,!=2.1.6,>=2.0.3 in /Users/const/.pyenv/versions/3.7.3/lib/python3.7/site-packages (from matplotlib>=2.2->seaborn) (2.4.7)\n",
      "Requirement already satisfied: kiwisolver>=1.0.1 in /Users/const/.pyenv/versions/3.7.3/lib/python3.7/site-packages (from matplotlib>=2.2->seaborn) (1.2.0)\n",
      "Requirement already satisfied: certifi>=2020.06.20 in /Users/const/.pyenv/versions/3.7.3/lib/python3.7/site-packages (from matplotlib>=2.2->seaborn) (2020.12.5)\n",
      "Requirement already satisfied: cycler>=0.10 in /Users/const/.pyenv/versions/3.7.3/lib/python3.7/site-packages (from matplotlib>=2.2->seaborn) (0.10.0)\n",
      "Requirement already satisfied: python-dateutil>=2.1 in /Users/const/.pyenv/versions/3.7.3/lib/python3.7/site-packages (from matplotlib>=2.2->seaborn) (2.8.1)\n",
      "Requirement already satisfied: six in /Users/const/.pyenv/versions/3.7.3/lib/python3.7/site-packages (from cycler>=0.10->matplotlib>=2.2->seaborn) (1.15.0)\n",
      "Requirement already satisfied: pytz>=2017.2 in /Users/const/.pyenv/versions/3.7.3/lib/python3.7/site-packages (from pandas>=0.23->seaborn) (2020.1)\n"
     ]
    }
   ],
   "source": [
    "!pip install nest-asyncio\n",
    "!pip install seaborn\n",
    "import bittensor\n",
    "import seaborn as sns; sns.set_theme()\n",
    "import torch\n",
    "import nest_asyncio\n",
    "nest_asyncio.apply()"
   ]
  },
  {
   "cell_type": "code",
   "execution_count": 136,
   "metadata": {},
   "outputs": [],
   "source": [
    "# Create our chain connection.\n",
    "subtensor = bittensor.subtensor.Subtensor(\n",
    "    network = 'kusanagi'\n",
    ")\n",
    "\n",
    "# Pass our chain connection to our torch chain state object.\n",
    "metagraph = bittensor.metagraph.Metagraph(\n",
    "    subtensor = subtensor,\n",
    "    stale_emit_filter = -1\n",
    ")"
   ]
  },
  {
   "cell_type": "code",
   "execution_count": 137,
   "metadata": {},
   "outputs": [
    {
     "name": "stdout",
     "output_type": "stream",
     "text": [
      "\u001b[32mSuccessfully connected to endpoint: 142.93.203.149:9944\u001b[0m\n",
      "\u001b[37m\n",
      "Syncing metagraph:\u001b[0m\n",
      "\u001b[32mLoaded hotkey: 0xbc8ca2afe5a3bca80254bc51ab9fd9f88a5891bd3ecb8e10f917170b0043ff69\u001b[0m\n"
     ]
    }
   ],
   "source": [
    "# Connects our backend to the kusanagi network.\n",
    "subtensor.connect()\n",
    "\n",
    "# Pulls the latest chain state.\n",
    "metagraph.sync()"
   ]
  },
  {
   "cell_type": "code",
   "execution_count": 138,
   "metadata": {},
   "outputs": [
    {
     "name": "stdout",
     "output_type": "stream",
     "text": [
      "The state is at block height 614662\n",
      "The state has n neurons 1\n",
      "The state has uids: tensor([100])\n"
     ]
    }
   ],
   "source": [
    "print ('The state is at block height {}'.format(metagraph.block))\n",
    "print ('The state has n neurons {}'.format(metagraph.n))\n",
    "print ('The state has uids: {}'.format(metagraph.uids))"
   ]
  },
  {
   "cell_type": "code",
   "execution_count": null,
   "metadata": {},
   "outputs": [],
   "source": [
    "from string import ascii_letters\n",
    "import numpy as np\n",
    "import pandas as pd\n",
    "import seaborn as sns\n",
    "import matplotlib.pyplot as plt\n",
    "\n",
    "sns.set_theme(style=\"white\")\n",
    "\n",
    "# Generate a large random dataset\n",
    "d = pd.DataFrame(data=metagraph.W.tolist(),\n",
    "                 columns=list(metagraph.uids.tolist()))\n",
    "\n",
    "# Compute the correlation matrix\n",
    "corr = d.corr()\n",
    "\n",
    "# Set up the matplotlib figure\n",
    "f, ax = plt.subplots(figsize=(11, 9))\n",
    "\n",
    "# Generate a custom diverging colormap\n",
    "cmap = sns.diverging_palette(230, 20, as_cmap=True)\n",
    "\n",
    "# Draw the heatmap with the mask and correct aspect ratio\n",
    "sns.heatmap(corr, cmap=cmap, vmin=0, vmax=1.0, center=0,\n",
    "            square=True, linewidths=.5, cbar_kws={\"shrink\": .5})"
   ]
  },
  {
   "cell_type": "code",
   "execution_count": 99,
   "metadata": {},
   "outputs": [
    {
     "ename": "RuntimeError",
     "evalue": "operation does not have an identity.",
     "output_type": "error",
     "traceback": [
      "\u001b[0;31m---------------------------------------------------------------------------\u001b[0m",
      "\u001b[0;31mRuntimeError\u001b[0m                              Traceback (most recent call last)",
      "\u001b[0;32m<ipython-input-99-5826b366de48>\u001b[0m in \u001b[0;36m<module>\u001b[0;34m\u001b[0m\n\u001b[1;32m      3\u001b[0m \u001b[0msns\u001b[0m\u001b[0;34m.\u001b[0m\u001b[0mset_theme\u001b[0m\u001b[0;34m(\u001b[0m\u001b[0mstyle\u001b[0m\u001b[0;34m=\u001b[0m\u001b[0;34m\"white\"\u001b[0m\u001b[0;34m)\u001b[0m\u001b[0;34m\u001b[0m\u001b[0;34m\u001b[0m\u001b[0m\n\u001b[1;32m      4\u001b[0m \u001b[0;34m\u001b[0m\u001b[0m\n\u001b[0;32m----> 5\u001b[0;31m \u001b[0mS\u001b[0m \u001b[0;34m=\u001b[0m \u001b[0;34m(\u001b[0m\u001b[0mmetagraph\u001b[0m\u001b[0;34m.\u001b[0m\u001b[0mS\u001b[0m \u001b[0;34m-\u001b[0m \u001b[0mtorch\u001b[0m\u001b[0;34m.\u001b[0m\u001b[0mmin\u001b[0m\u001b[0;34m(\u001b[0m\u001b[0mmetagraph\u001b[0m\u001b[0;34m.\u001b[0m\u001b[0mS\u001b[0m\u001b[0;34m)\u001b[0m\u001b[0;34m)\u001b[0m \u001b[0;34m/\u001b[0m \u001b[0;34m(\u001b[0m\u001b[0mtorch\u001b[0m\u001b[0;34m.\u001b[0m\u001b[0mmax\u001b[0m\u001b[0;34m(\u001b[0m\u001b[0mmetagraph\u001b[0m\u001b[0;34m.\u001b[0m\u001b[0mS\u001b[0m\u001b[0;34m)\u001b[0m \u001b[0;34m-\u001b[0m \u001b[0mtorch\u001b[0m\u001b[0;34m.\u001b[0m\u001b[0mmin\u001b[0m\u001b[0;34m(\u001b[0m\u001b[0mmetagraph\u001b[0m\u001b[0;34m.\u001b[0m\u001b[0mS\u001b[0m\u001b[0;34m)\u001b[0m\u001b[0;34m)\u001b[0m\u001b[0;34m\u001b[0m\u001b[0;34m\u001b[0m\u001b[0m\n\u001b[0m\u001b[1;32m      6\u001b[0m \u001b[0mR\u001b[0m \u001b[0;34m=\u001b[0m \u001b[0;34m(\u001b[0m\u001b[0mmetagraph\u001b[0m\u001b[0;34m.\u001b[0m\u001b[0mR\u001b[0m \u001b[0;34m-\u001b[0m \u001b[0mtorch\u001b[0m\u001b[0;34m.\u001b[0m\u001b[0mmin\u001b[0m\u001b[0;34m(\u001b[0m\u001b[0mmetagraph\u001b[0m\u001b[0;34m.\u001b[0m\u001b[0mR\u001b[0m\u001b[0;34m)\u001b[0m\u001b[0;34m)\u001b[0m \u001b[0;34m/\u001b[0m \u001b[0;34m(\u001b[0m\u001b[0mtorch\u001b[0m\u001b[0;34m.\u001b[0m\u001b[0mmax\u001b[0m\u001b[0;34m(\u001b[0m\u001b[0mmetagraph\u001b[0m\u001b[0;34m.\u001b[0m\u001b[0mR\u001b[0m\u001b[0;34m)\u001b[0m \u001b[0;34m-\u001b[0m \u001b[0mtorch\u001b[0m\u001b[0;34m.\u001b[0m\u001b[0mmin\u001b[0m\u001b[0;34m(\u001b[0m\u001b[0mmetagraph\u001b[0m\u001b[0;34m.\u001b[0m\u001b[0mR\u001b[0m\u001b[0;34m)\u001b[0m\u001b[0;34m)\u001b[0m\u001b[0;34m\u001b[0m\u001b[0;34m\u001b[0m\u001b[0m\n\u001b[1;32m      7\u001b[0m \u001b[0mI\u001b[0m \u001b[0;34m=\u001b[0m \u001b[0;34m(\u001b[0m\u001b[0mmetagraph\u001b[0m\u001b[0;34m.\u001b[0m\u001b[0mI\u001b[0m \u001b[0;34m-\u001b[0m \u001b[0mtorch\u001b[0m\u001b[0;34m.\u001b[0m\u001b[0mmin\u001b[0m\u001b[0;34m(\u001b[0m\u001b[0mmetagraph\u001b[0m\u001b[0;34m.\u001b[0m\u001b[0mI\u001b[0m\u001b[0;34m)\u001b[0m\u001b[0;34m)\u001b[0m \u001b[0;34m/\u001b[0m \u001b[0;34m(\u001b[0m\u001b[0mtorch\u001b[0m\u001b[0;34m.\u001b[0m\u001b[0mmax\u001b[0m\u001b[0;34m(\u001b[0m\u001b[0mmetagraph\u001b[0m\u001b[0;34m.\u001b[0m\u001b[0mI\u001b[0m\u001b[0;34m)\u001b[0m \u001b[0;34m-\u001b[0m \u001b[0mtorch\u001b[0m\u001b[0;34m.\u001b[0m\u001b[0mmin\u001b[0m\u001b[0;34m(\u001b[0m\u001b[0mmetagraph\u001b[0m\u001b[0;34m.\u001b[0m\u001b[0mI\u001b[0m\u001b[0;34m)\u001b[0m\u001b[0;34m)\u001b[0m\u001b[0;34m\u001b[0m\u001b[0;34m\u001b[0m\u001b[0m\n",
      "\u001b[0;31mRuntimeError\u001b[0m: operation does not have an identity."
     ]
    }
   ],
   "source": [
    "import seaborn as sns\n",
    "import pandas as pd\n",
    "sns.set_theme(style=\"white\")\n",
    "\n",
    "S = (metagraph.S - torch.min(metagraph.S)) / (torch.max(metagraph.S) - torch.min(metagraph.S))\n",
    "R = (metagraph.R - torch.min(metagraph.R)) / (torch.max(metagraph.R) - torch.min(metagraph.R))\n",
    "I = (metagraph.I - torch.min(metagraph.I)) / (torch.max(metagraph.I) - torch.min(metagraph.I))\n",
    "\n",
    "data = {\n",
    "    'UID': metagraph.uids.tolist(), \n",
    "    'S': S.tolist(), \n",
    "    'R': R.tolist(), \n",
    "    'I': I.tolist()\n",
    "}\n",
    "df = pd.DataFrame(data) \n",
    "\n",
    "sns.relplot(x=\"UID\", y=\"S\", hue=\"I\", size=\"S\",\n",
    "            sizes=(400, 400), alpha=.5, palette=\"muted\",\n",
    "            height=10, data=df, legend=False)\n"
   ]
  },
  {
   "cell_type": "code",
   "execution_count": 79,
   "metadata": {},
   "outputs": [
    {
     "name": "stdout",
     "output_type": "stream",
     "text": [
      "tensor([0.0000, 0.4509, 0.3537, 0.4129, 0.5863, 0.5280, 0.9107, 0.3517, 0.6485,\n",
      "        0.3556, 0.6064, 0.6584, 0.8701, 0.6809, 0.6479, 0.5677, 0.3549, 0.4188,\n",
      "        0.3504, 0.5959, 0.8066, 0.3593, 0.4938, 0.3499, 0.4785, 0.3473, 0.9681,\n",
      "        0.6591, 0.4296, 0.3531, 1.0000, 0.3461, 0.4489, 0.5924, 0.6972, 0.3553,\n",
      "        0.5672, 0.5919, 0.3517, 0.3976, 0.3668, 0.4942, 0.4647, 0.3602, 0.3507,\n",
      "        0.5223, 0.3530, 0.3568, 0.6980, 0.7419, 0.5012, 0.3632, 0.6237, 0.6495,\n",
      "        0.7269, 0.3582, 0.3832, 0.4788, 0.7003, 0.3658, 0.3567, 0.3504, 0.4920,\n",
      "        0.5032, 0.5177, 0.5198, 0.7054, 0.5495, 0.3640, 0.4774, 0.3585, 0.6832,\n",
      "        0.3563, 0.8482, 0.3569, 0.3593, 0.4922, 0.6960, 0.4768, 0.5805, 0.5561,\n",
      "        0.4258, 0.3469, 0.6838, 0.5264, 0.5435, 0.3532, 0.4739, 0.3821, 0.3495,\n",
      "        0.4752, 0.4850, 0.3722, 0.5203, 0.4516, 0.3687, 0.4844, 0.7658, 0.7082,\n",
      "        0.5894, 0.3581, 0.3593, 0.3528, 0.8854, 0.3805, 0.8584, 0.4992, 0.3543,\n",
      "        0.4776, 0.3590, 0.3579, 0.3847, 0.3591])\n"
     ]
    }
   ],
   "source": []
  },
  {
   "cell_type": "code",
   "execution_count": null,
   "metadata": {},
   "outputs": [],
   "source": []
  }
 ],
 "metadata": {
  "kernelspec": {
   "display_name": "Python 3",
   "language": "python",
   "name": "python3"
  },
  "language_info": {
   "codemirror_mode": {
    "name": "ipython",
    "version": 3
   },
   "file_extension": ".py",
   "mimetype": "text/x-python",
   "name": "python",
   "nbconvert_exporter": "python",
   "pygments_lexer": "ipython3",
   "version": "3.7.3"
  }
 },
 "nbformat": 4,
 "nbformat_minor": 4
}
