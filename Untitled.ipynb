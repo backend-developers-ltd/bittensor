{
 "cells": [
  {
   "cell_type": "code",
   "execution_count": 1,
   "metadata": {},
   "outputs": [],
   "source": [
    "\n",
    "\n",
    "import torch\n"
   ]
  },
  {
   "cell_type": "code",
   "execution_count": null,
   "metadata": {},
   "outputs": [],
   "source": []
  },
  {
   "cell_type": "code",
   "execution_count": 6,
   "metadata": {},
   "outputs": [
    {
     "data": {
      "text/plain": [
       "tensor([[1, 2, 3],\n",
       "        [1, 2, 3],\n",
       "        [1, 2, 3]])"
      ]
     },
     "execution_count": 6,
     "metadata": {},
     "output_type": "execute_result"
    }
   ],
   "source": [
    "indices = torch.tensor([[0, 1],\n",
    "                        [1],\n",
    "                        [2]])\n",
    "\n",
    "uids = torch.tensor([1,2,3]).repeat(3, 1)\n",
    "\n",
    "uids\n",
    "#torch.gather(uids, 0, indices)"
   ]
  },
  {
   "cell_type": "code",
   "execution_count": 10,
   "metadata": {},
   "outputs": [
    {
     "name": "stdout",
     "output_type": "stream",
     "text": [
      "tensor([[0.2105, 0.4641, 0.3530, 0.1826, 0.9269],\n",
      "        [0.7741, 0.0131, 0.2515, 0.9253, 0.8489]])\n"
     ]
    },
    {
     "data": {
      "text/plain": [
       "tensor([[0.2105, 0.0000, 0.2515, 0.1826, 0.9269],\n",
       "        [0.0000, 0.0131, 0.0000, 0.9253, 0.0000],\n",
       "        [0.7741, 0.0000, 0.3530, 0.0000, 0.8489]])"
      ]
     },
     "execution_count": 10,
     "metadata": {},
     "output_type": "execute_result"
    }
   ],
   "source": [
    "import torch\n",
    "x = torch.rand(2, 5)\n",
    "print (x)\n",
    "# tensor([[ 0.3992,  0.2908,  0.9044,  0.4850,  0.6004],\n",
    "#         [ 0.5735,  0.9006,  0.6797,  0.4152,  0.1732]])\n",
    "torch.zeros(3, 5).scatter_(0, torch.tensor( [[0, 1, 2, 0, 0], \n",
    "                                             [2, 1, 0, 1, 2]]\n",
    "                                          ), x)\n",
    "# tensor([[ 0.3992,  0.9006,  0.6797,  0.4850,  0.6004],\n",
    "#         [ 0.0000,  0.2908,  0.0000,  0.4152,  0.0000],\n",
    "#         [ 0.5735,  0.0000,  0.9044,  0.0000,  0.1732]])"
   ]
  },
  {
   "cell_type": "code",
   "execution_count": 19,
   "metadata": {},
   "outputs": [
    {
     "data": {
      "text/plain": [
       "tensor([[0.1000, 0.0000, 0.2000, 0.0000],\n",
       "        [0.3000, 0.0000, 0.0000, 0.4000]])"
      ]
     },
     "execution_count": 19,
     "metadata": {},
     "output_type": "execute_result"
    }
   ],
   "source": [
    "weights = torch.tensor([[0.1, 0.2],\n",
    "                        [0.3, 0.4]])\n",
    "keys = torch.tensor([[0,2],[0,3]])\n",
    "\n",
    "torch.zeros(2, 4).scatter_(1, torch.tensor([  [0, 2],\n",
    "                                              [0, 3] ]), weights)"
   ]
  },
  {
   "cell_type": "code",
   "execution_count": null,
   "metadata": {},
   "outputs": [],
   "source": []
  }
 ],
 "metadata": {
  "kernelspec": {
   "display_name": "Python 3",
   "language": "python",
   "name": "python3"
  },
  "language_info": {
   "codemirror_mode": {
    "name": "ipython",
    "version": 3
   },
   "file_extension": ".py",
   "mimetype": "text/x-python",
   "name": "python",
   "nbconvert_exporter": "python",
   "pygments_lexer": "ipython3",
   "version": "3.7.3"
  }
 },
 "nbformat": 4,
 "nbformat_minor": 4
}
