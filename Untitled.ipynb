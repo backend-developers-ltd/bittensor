{
 "cells": [
  {
   "cell_type": "code",
   "execution_count": 2,
   "id": "f094e23e-d081-47cb-8602-9ed83010bba1",
   "metadata": {},
   "outputs": [],
   "source": [
    "import bittensor"
   ]
  },
  {
   "cell_type": "code",
   "execution_count": null,
   "id": "70408539-0914-4656-99c0-e69fc948da7b",
   "metadata": {},
   "outputs": [
    {
     "name": "stderr",
     "output_type": "stream",
     "text": [
      " 76%|███████▌  | 623/824 [07:44<02:29,  1.35it/s]"
     ]
    }
   ],
   "source": [
    "graph = bittensor.metagraph().sync()"
   ]
  },
  {
   "cell_type": "code",
   "execution_count": null,
   "id": "3a0edce2-c3ab-455f-9a34-4705f4a360f0",
   "metadata": {},
   "outputs": [],
   "source": []
  }
 ],
 "metadata": {
  "kernelspec": {
   "display_name": "Python 3 (ipykernel)",
   "language": "python",
   "name": "python3"
  },
  "language_info": {
   "codemirror_mode": {
    "name": "ipython",
    "version": 3
   },
   "file_extension": ".py",
   "mimetype": "text/x-python",
   "name": "python",
   "nbconvert_exporter": "python",
   "pygments_lexer": "ipython3",
   "version": "3.8.12"
  }
 },
 "nbformat": 4,
 "nbformat_minor": 5
}
