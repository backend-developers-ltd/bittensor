{
 "cells": [
  {
   "cell_type": "code",
   "execution_count": 1,
   "id": "4e1cf3df-6d70-4686-be88-8607f74d5f63",
   "metadata": {},
   "outputs": [
    {
     "name": "stdout",
     "output_type": "stream",
     "text": [
      "\u001b[33mDEPRECATION: Configuring installation scheme with distutils config files is deprecated and will no longer work in the near future. If you are using a Homebrew or Linuxbrew Python, please see discussion at https://github.com/Homebrew/homebrew-core/issues/76621\u001b[0m\n",
      "Collecting ansible-vault\n",
      "  Using cached ansible-vault-2.1.0.tar.gz (3.5 kB)\n",
      "  Installing build dependencies ... \u001b[?25ldone\n",
      "\u001b[?25h  Getting requirements to build wheel ... \u001b[?25ldone\n",
      "\u001b[?25h    Preparing wheel metadata ... \u001b[?25ldone\n",
      "\u001b[?25hCollecting ansible\n",
      "  Using cached ansible-4.4.0.tar.gz (35.4 MB)\n",
      "Requirement already satisfied: setuptools in /usr/local/lib/python3.7/site-packages (from ansible-vault) (57.1.0)\n",
      "Collecting ansible-core<2.12,>=2.11.3\n",
      "  Using cached ansible-core-2.11.4.tar.gz (6.8 MB)\n",
      "Requirement already satisfied: jinja2 in /usr/local/lib/python3.7/site-packages (from ansible-core<2.12,>=2.11.3->ansible->ansible-vault) (3.0.1)\n",
      "Requirement already satisfied: PyYAML in /usr/local/lib/python3.7/site-packages (from ansible-core<2.12,>=2.11.3->ansible->ansible-vault) (5.4.1)\n",
      "Requirement already satisfied: cryptography in /usr/local/lib/python3.7/site-packages (from ansible-core<2.12,>=2.11.3->ansible->ansible-vault) (3.1.1)\n",
      "Requirement already satisfied: packaging in /usr/local/lib/python3.7/site-packages (from ansible-core<2.12,>=2.11.3->ansible->ansible-vault) (21.0)\n",
      "Collecting resolvelib<0.6.0,>=0.5.3\n",
      "  Using cached resolvelib-0.5.4-py2.py3-none-any.whl (12 kB)\n",
      "Requirement already satisfied: cffi!=1.11.3,>=1.8 in /usr/local/lib/python3.7/site-packages (from cryptography->ansible-core<2.12,>=2.11.3->ansible->ansible-vault) (1.14.6)\n",
      "Requirement already satisfied: six>=1.4.1 in /usr/local/lib/python3.7/site-packages (from cryptography->ansible-core<2.12,>=2.11.3->ansible->ansible-vault) (1.16.0)\n",
      "Requirement already satisfied: pycparser in /usr/local/lib/python3.7/site-packages (from cffi!=1.11.3,>=1.8->cryptography->ansible-core<2.12,>=2.11.3->ansible->ansible-vault) (2.20)\n",
      "Requirement already satisfied: MarkupSafe>=2.0 in /usr/local/lib/python3.7/site-packages (from jinja2->ansible-core<2.12,>=2.11.3->ansible->ansible-vault) (2.0.1)\n",
      "Requirement already satisfied: pyparsing>=2.0.2 in /usr/local/lib/python3.7/site-packages (from packaging->ansible-core<2.12,>=2.11.3->ansible->ansible-vault) (2.4.7)\n",
      "Building wheels for collected packages: ansible-vault, ansible, ansible-core\n",
      "  Building wheel for ansible-vault (PEP 517) ... \u001b[?25ldone\n",
      "\u001b[?25h  Created wheel for ansible-vault: filename=ansible_vault-2.1.0-py3-none-any.whl size=5230 sha256=6246c172c7e40fa69f9412c2fb4a4423ae07d0ca5b60f00af96c4d1c4da7882b\n",
      "  Stored in directory: /Users/const/Library/Caches/pip/wheels/df/b7/c8/a42c95b072e49709413fcd02e4950d09a98f189ac03d2de873\n",
      "  Building wheel for ansible (setup.py) ... \u001b[?25ldone\n",
      "\u001b[?25h  Created wheel for ansible: filename=ansible-4.4.0-py3-none-any.whl size=58221803 sha256=5d06ac4558fdd3e420bda0a919fbd8070a052db4a731e7771b23aa3fdbbe8505\n",
      "  Stored in directory: /Users/const/Library/Caches/pip/wheels/eb/6d/b1/8171f988d4b481159d8a834b5492804ecc0a698810aa81790f\n",
      "  Building wheel for ansible-core (setup.py) ... \u001b[?25ldone\n",
      "\u001b[?25h  Created wheel for ansible-core: filename=ansible_core-2.11.4-py3-none-any.whl size=1956210 sha256=13b136079e1ff54395c9185bbbd0806aab392f1d9debdb41561d732daeb43a18\n",
      "  Stored in directory: /Users/const/Library/Caches/pip/wheels/bb/7e/ec/1134a09472a549b2d981dd56d273326bf6aa93ec248fdbd37a\n",
      "Successfully built ansible-vault ansible ansible-core\n",
      "Installing collected packages: resolvelib, ansible-core, ansible, ansible-vault\n",
      "\u001b[33m  DEPRECATION: Configuring installation scheme with distutils config files is deprecated and will no longer work in the near future. If you are using a Homebrew or Linuxbrew Python, please see discussion at https://github.com/Homebrew/homebrew-core/issues/76621\u001b[0m\n",
      "\u001b[33m  DEPRECATION: Configuring installation scheme with distutils config files is deprecated and will no longer work in the near future. If you are using a Homebrew or Linuxbrew Python, please see discussion at https://github.com/Homebrew/homebrew-core/issues/76621\u001b[0m\n",
      "\u001b[33m  DEPRECATION: Configuring installation scheme with distutils config files is deprecated and will no longer work in the near future. If you are using a Homebrew or Linuxbrew Python, please see discussion at https://github.com/Homebrew/homebrew-core/issues/76621\u001b[0m\n",
      "\u001b[33m  DEPRECATION: Configuring installation scheme with distutils config files is deprecated and will no longer work in the near future. If you are using a Homebrew or Linuxbrew Python, please see discussion at https://github.com/Homebrew/homebrew-core/issues/76621\u001b[0m\n",
      "\u001b[33mDEPRECATION: Configuring installation scheme with distutils config files is deprecated and will no longer work in the near future. If you are using a Homebrew or Linuxbrew Python, please see discussion at https://github.com/Homebrew/homebrew-core/issues/76621\u001b[0m\n",
      "Successfully installed ansible-4.4.0 ansible-core-2.11.4 ansible-vault-2.1.0 resolvelib-0.5.4\n"
     ]
    }
   ],
   "source": [
    "! pip install ansible-vault"
   ]
  },
  {
   "cell_type": "code",
   "execution_count": 2,
   "id": "eb63f760-6bef-45e0-ac6a-7ef37a017f1d",
   "metadata": {},
   "outputs": [],
   "source": [
    "from ansible_vault import Vault\n"
   ]
  },
  {
   "cell_type": "code",
   "execution_count": null,
   "id": "a3302c40-cc64-4422-be8f-f8f4bcc3e944",
   "metadata": {},
   "outputs": [],
   "source": []
  }
 ],
 "metadata": {
  "kernelspec": {
   "display_name": "Python 3 (ipykernel)",
   "language": "python",
   "name": "python3"
  },
  "language_info": {
   "codemirror_mode": {
    "name": "ipython",
    "version": 3
   },
   "file_extension": ".py",
   "mimetype": "text/x-python",
   "name": "python",
   "nbconvert_exporter": "python",
   "pygments_lexer": "ipython3",
   "version": "3.8.11"
  }
 },
 "nbformat": 4,
 "nbformat_minor": 5
}
