{
 "cells": [
  {
   "cell_type": "code",
   "execution_count": 61,
   "id": "3746b71a-8e50-4a4a-9b95-70a1b3470bf2",
   "metadata": {},
   "outputs": [],
   "source": [
    "import binascii\n",
    "import struct\n",
    "import hashlib\n",
    "import math\n",
    "import bittensor\n",
    "\n",
    "def hex_bytes_to_u8_list( hex_bytes: bytes ):\n",
    "    hex_chunks = [int(hex_bytes[i:i+2], 16) for i in range(0, len(hex_bytes), 2)]\n",
    "    return hex_chunks\n",
    "\n",
    "def u8_list_to_hex( values: list ):\n",
    "    total = 0\n",
    "    for val in reversed(values):\n",
    "        total = (total << 8) + val\n",
    "    return total \n",
    "\n",
    "def create_seal_hash( block_hash:bytes, nonce:int ) -> bytes:\n",
    "    nonce_bytes = binascii.hexlify(nonce.to_bytes(8, 'little'))\n",
    "    block_bytes = block_hash.encode('utf-8')[2:]\n",
    "    pre_seal = nonce_bytes + block_bytes\n",
    "    seal = hashlib.sha256( bytearray(hex_bytes_to_u8_list(pre_seal)) ).digest()\n",
    "    print( '\\nblock_hash', block_hash, \n",
    "          '\\nnonce', nonce, \n",
    "          '\\nnonce_bytes', nonce_bytes, \n",
    "          '\\nblock bytes', block_bytes, \n",
    "          '\\npre_seal', pre_seal, \n",
    "          '\\nseal', seal, \n",
    "    )\n",
    "    return seal\n",
    "\n",
    "def seal_meets_difficulty( seal:bytes, difficulty:int ):\n",
    "    print (seal)\n",
    "    seal_number = int.from_bytes(seal, \"big\")\n",
    "    product = seal_number * difficulty\n",
    "    limit = int(math.pow(2,256) - 1)\n",
    "    print ('\\nseal:', seal, '\\nseal_number:', seal_number, '\\ndifficulty:', difficulty, '\\nproduct:', product, '\\nlimit:', limit,  '\\ndif:', limit - product)\n",
    "    if product > math.pow(2,256) - 1:\n",
    "        return False\n",
    "    else:\n",
    "        return True\n",
    "    \n",
    "def solve_for_difficulty( block_hash, difficulty ):\n",
    "    meets = False\n",
    "    nonce = -1\n",
    "    while not meets:\n",
    "        nonce += 1 \n",
    "        seal = create_seal_hash( block_hash, nonce )\n",
    "        meets = seal_meets_difficulty( seal, difficulty )\n",
    "        if nonce > 1:\n",
    "            break\n",
    "    return nonce, seal\n",
    "\n",
    "sub = bittensor.subtensor( network = 'nobunaga' )\n",
    "blockH = sub.substrate.get_block_hash(sub.get_current_block())"
   ]
  },
  {
   "cell_type": "code",
   "execution_count": 63,
   "id": "71767e0f-30a1-4bd1-98c4-f1daa5520f85",
   "metadata": {},
   "outputs": [
    {
     "name": "stdout",
     "output_type": "stream",
     "text": [
      "\n",
      "block_hash 0x4545454545454545454545454545454545454545454545454545454545454545 \n",
      "nonce 0 \n",
      "nonce_bytes b'0000000000000000' \n",
      "block bytes b'4545454545454545454545454545454545454545454545454545454545454545' \n",
      "pre_seal b'00000000000000004545454545454545454545454545454545454545454545454545454545454545' \n",
      "seal b'l\\x80T\\x0f=\\x8a\\x9d\\x10\\x1b\\xb8\\x81\\xdc\\x0f\\xb9\\xa9r\\xd1\\xe2\\xde\\xab\\xff\\xd7z\\xf6f\\x8c1\\xddo\\xe3F\\x17'\n",
      "b'l\\x80T\\x0f=\\x8a\\x9d\\x10\\x1b\\xb8\\x81\\xdc\\x0f\\xb9\\xa9r\\xd1\\xe2\\xde\\xab\\xff\\xd7z\\xf6f\\x8c1\\xddo\\xe3F\\x17'\n",
      "\n",
      "seal: b'l\\x80T\\x0f=\\x8a\\x9d\\x10\\x1b\\xb8\\x81\\xdc\\x0f\\xb9\\xa9r\\xd1\\xe2\\xde\\xab\\xff\\xd7z\\xf6f\\x8c1\\xddo\\xe3F\\x17' \n",
      "seal_number: 49076524228857805642519269603444689103670036366038078271349905928701071279639 \n",
      "difficulty: 1 \n",
      "product: 49076524228857805642519269603444689103670036366038078271349905928701071279639 \n",
      "limit: 115792089237316195423570985008687907853269984665640564039457584007913129639936 \n",
      "dif: 66715565008458389781051715405243218749599948299602485768107678079212058360297\n",
      "\n",
      "block_hash 0x4545454545454545454545454545454545454545454545454545454545454545 \n",
      "nonce 10 \n",
      "nonce_bytes b'0a00000000000000' \n",
      "block bytes b'4545454545454545454545454545454545454545454545454545454545454545' \n",
      "pre_seal b'0a000000000000004545454545454545454545454545454545454545454545454545454545454545' \n",
      "seal b'5\\x13\\xbeT\\xf2\\x86\\x10od\\x9c+\\xabC\\x96\\xb3 9\\x99\\xeb\\xbb\\xfe\\xf6\\x10,T\\xa3\\xb5U\\xfeU\\xc0\\xfd'\n",
      "b'5\\x13\\xbeT\\xf2\\x86\\x10od\\x9c+\\xabC\\x96\\xb3 9\\x99\\xeb\\xbb\\xfe\\xf6\\x10,T\\xa3\\xb5U\\xfeU\\xc0\\xfd'\n",
      "\n",
      "seal: b'5\\x13\\xbeT\\xf2\\x86\\x10od\\x9c+\\xabC\\x96\\xb3 9\\x99\\xeb\\xbb\\xfe\\xf6\\x10,T\\xa3\\xb5U\\xfeU\\xc0\\xfd' \n",
      "seal_number: 24007464691126043530516669888732992852658816593352938595924828991034838335741 \n",
      "difficulty: 10 \n",
      "product: 240074646911260435305166698887329928526588165933529385959248289910348383357410 \n",
      "limit: 115792089237316195423570985008687907853269984665640564039457584007913129639936 \n",
      "dif: -124282557673944239881595713878642020673318181267888821919790705902435253717474\n",
      "\n",
      "block_hash 0x4545454545454545454545454545454545454545454545454545454545454545 \n",
      "nonce 100 \n",
      "nonce_bytes b'6400000000000000' \n",
      "block bytes b'4545454545454545454545454545454545454545454545454545454545454545' \n",
      "pre_seal b'64000000000000004545454545454545454545454545454545454545454545454545454545454545' \n",
      "seal b'\\xc1\\x7f\\xbf|\\\\\\xc0\\x1a(\\xef\\x996\"S\\xf3\\xa2\\xce\\xb2\\xde\\x94E6\\xd5\\xfce\\xbf\\x9b\\xe7\\x94\\xfc\\xda\\x0f\\x0f'\n",
      "b'\\xc1\\x7f\\xbf|\\\\\\xc0\\x1a(\\xef\\x996\"S\\xf3\\xa2\\xce\\xb2\\xde\\x94E6\\xd5\\xfce\\xbf\\x9b\\xe7\\x94\\xfc\\xda\\x0f\\x0f'\n",
      "\n",
      "seal: b'\\xc1\\x7f\\xbf|\\\\\\xc0\\x1a(\\xef\\x996\"S\\xf3\\xa2\\xce\\xb2\\xde\\x94E6\\xd5\\xfce\\xbf\\x9b\\xe7\\x94\\xfc\\xda\\x0f\\x0f' \n",
      "seal_number: 87522090940150648579878213182675984781727326545840208823775732279469514821391 \n",
      "difficulty: 100 \n",
      "product: 8752209094015064857987821318267598478172732654584020882377573227946951482139100 \n",
      "limit: 115792089237316195423570985008687907853269984665640564039457584007913129639936 \n",
      "dif: -8636417004777748662564250333258910570319462669918380318338115643939038352499164\n"
     ]
    },
    {
     "data": {
      "text/plain": [
       "False"
      ]
     },
     "execution_count": 63,
     "metadata": {},
     "output_type": "execute_result"
    }
   ],
   "source": [
    "nonce = 0\n",
    "difficulty = 1\n",
    "block_hash = '0x4545454545454545454545454545454545454545454545454545454545454545'\n",
    "seal = create_seal_hash( block_hash, nonce )\n",
    "seal_meets_difficulty( seal, difficulty )\n",
    "\n",
    "\n",
    "nonce = 10\n",
    "difficulty = 10\n",
    "block_hash = '0x4545454545454545454545454545454545454545454545454545454545454545'\n",
    "seal = create_seal_hash( block_hash, nonce )\n",
    "seal_meets_difficulty( seal, difficulty )\n",
    "\n",
    "\n",
    "nonce = 100\n",
    "difficulty = 100\n",
    "block_hash = '0x4545454545454545454545454545454545454545454545454545454545454545'\n",
    "seal = create_seal_hash( block_hash, nonce )\n",
    "seal_meets_difficulty( seal, difficulty )\n",
    "\n"
   ]
  },
  {
   "cell_type": "code",
   "execution_count": 65,
   "id": "be0973e3-4443-4138-9c41-df3159bd389c",
   "metadata": {},
   "outputs": [
    {
     "data": {
      "text/plain": [
       "[193,\n",
       " 127,\n",
       " 191,\n",
       " 124,\n",
       " 92,\n",
       " 192,\n",
       " 26,\n",
       " 40,\n",
       " 239,\n",
       " 153,\n",
       " 54,\n",
       " 34,\n",
       " 83,\n",
       " 243,\n",
       " 162,\n",
       " 206,\n",
       " 178,\n",
       " 222,\n",
       " 148,\n",
       " 69,\n",
       " 54,\n",
       " 213,\n",
       " 252,\n",
       " 101,\n",
       " 191,\n",
       " 155,\n",
       " 231,\n",
       " 148,\n",
       " 252,\n",
       " 218,\n",
       " 15,\n",
       " 15]"
      ]
     },
     "execution_count": 65,
     "metadata": {},
     "output_type": "execute_result"
    }
   ],
   "source": [
    "hex_bytes_to_u8_list ( binascii.hexlify( b'\\xc1\\x7f\\xbf|\\\\\\xc0\\x1a(\\xef\\x996\"S\\xf3\\xa2\\xce\\xb2\\xde\\x94E6\\xd5\\xfce\\xbf\\x9b\\xe7\\x94\\xfc\\xda\\x0f\\x0f'))\n"
   ]
  },
  {
   "cell_type": "code",
   "execution_count": 43,
   "id": "5020ef73-b8f6-4ca4-880f-d57518e7bc9c",
   "metadata": {},
   "outputs": [
    {
     "name": "stdout",
     "output_type": "stream",
     "text": [
      "6c80540f3d8a9d101bb881dc0fb9a972d1e2deabffd77af6668c31dd6fe34617\n"
     ]
    }
   ],
   "source": [
    "print( hashlib.sha256( bytearray([0, 0, 0, 0, 0, 0, 0, 0, 69, 69, 69, 69, 69, 69, 69, 69, 69, 69, 69, 69, 69, 69, 69, 69, 69, 69, 69, 69, 69, 69, 69, 69, 69, 69, 69, 69, 69, 69, 69, 69])) .hexdigest())"
   ]
  },
  {
   "cell_type": "code",
   "execution_count": 38,
   "id": "822bb291-87a6-4b1a-9963-ce7b5b7120ce",
   "metadata": {},
   "outputs": [
    {
     "name": "stdout",
     "output_type": "stream",
     "text": [
      "7acc5e32aba35a35ce317dc73e8938062fbeb2c74c457f2489bda16668b10826\n"
     ]
    }
   ],
   "source": [
    "print( hashlib.sha3_256( b'00000000000000004545454545454545454545454545454545454545454545454545454545454545' ).hexdigest() )"
   ]
  },
  {
   "cell_type": "code",
   "execution_count": 53,
   "id": "ef98fa94-bdf1-4ae8-bc8a-b94861db21da",
   "metadata": {},
   "outputs": [
    {
     "name": "stdout",
     "output_type": "stream",
     "text": [
      "\n",
      "block_hash 0x4545454545454545454545454545454545454545454545454545454545454545 \n",
      "nonce 0 \n",
      "nonce_bytes b'0000000000000000' \n",
      "block bytes b'4545454545454545454545454545454545454545454545454545454545454545' \n",
      "pre_seal b'00000000000000004545454545454545454545454545454545454545454545454545454545454545' \n",
      "seal b'l\\x80T\\x0f=\\x8a\\x9d\\x10\\x1b\\xb8\\x81\\xdc\\x0f\\xb9\\xa9r\\xd1\\xe2\\xde\\xab\\xff\\xd7z\\xf6f\\x8c1\\xddo\\xe3F\\x17'\n"
     ]
    },
    {
     "data": {
      "text/plain": [
       "b'l\\x80T\\x0f=\\x8a\\x9d\\x10\\x1b\\xb8\\x81\\xdc\\x0f\\xb9\\xa9r\\xd1\\xe2\\xde\\xab\\xff\\xd7z\\xf6f\\x8c1\\xddo\\xe3F\\x17'"
      ]
     },
     "execution_count": 53,
     "metadata": {},
     "output_type": "execute_result"
    }
   ],
   "source": [
    "nonce = 0\n",
    "block_hash = '0x4545454545454545454545454545454545454545454545454545454545454545'\n",
    "create_seal_hash(block_hash, nonce )"
   ]
  },
  {
   "cell_type": "code",
   "execution_count": 2,
   "id": "a4fcb3b2-70c3-483d-a3e5-6ddd7da8d731",
   "metadata": {},
   "outputs": [
    {
     "data": {
      "text/plain": [
       "'seal_hash_vec: [108, 128, 84, 15, 61, 138, 157, 16, 27, 184, 129, 220, 15, 185, 169, 114, 209, 226, 222, 171, 255, 215, 122, 246, 102, 140, 49, 221, 111, 227, 70, 23]'"
      ]
     },
     "execution_count": 2,
     "metadata": {},
     "output_type": "execute_result"
    }
   ],
   "source": [
    "hex_bytes_to_u8_list ('6c80540f3d8a9d101bb881dc0fb9a972d1e2deabffd77af6668c31dd6fe34617')\n",
    "'seal_hash_vec: [108, 128, 84, 15, 61, 138, 157, 16, 27, 184, 129, 220, 15, 185, 169, 114, 209, 226, 222, 171, 255, 215, 122, 246, 102, 140, 49, 221, 111, 227, 70, 23]'"
   ]
  },
  {
   "cell_type": "code",
   "execution_count": 16,
   "id": "4e96c207-c960-42a2-abff-cdf44233b5e5",
   "metadata": {},
   "outputs": [
    {
     "data": {
      "text/plain": [
       "b'00000000000000004545454545454545454545454545454545454545454545454545454545454545'"
      ]
     },
     "execution_count": 16,
     "metadata": {},
     "output_type": "execute_result"
    }
   ],
   "source": [
    "binascii.hexlify(bytearray([0, 0, 0, 0, 0, 0, 0, 0, 69, 69, 69, 69, 69, 69, 69, 69, 69, 69, 69, 69, 69, 69, 69, 69, 69, 69, 69, 69, 69, 69, 69, 69, 69, 69, 69, 69, 69, 69, 69, 69]))"
   ]
  },
  {
   "cell_type": "code",
   "execution_count": 218,
   "id": "f50c95a4-9008-4f70-915a-bff2bea6b7b1",
   "metadata": {},
   "outputs": [
    {
     "name": "stdout",
     "output_type": "stream",
     "text": [
      "577972962660952139942182344022349395716025929578858984809199493881306514034756569122522737410048\n"
     ]
    }
   ],
   "source": [
    "pre_seal = [0, 0, 0, 0, 0, 0, 0, 0, 69, 69, 69, 69, 69, 69, 69, 69, 69, 69, 69, 69, 69, 69, 69, 69, 69, 69, 69, 69, 69, 69, 69, 69, 69, 69, 69, 69, 69, 69, 69, 69] \n",
    "vvv = u8_list_to_hex\n",
    "# pre_seal: [0, 0, 0, 0, 0, 0, 0, 0, 69, 69, 69, 69, 69, 69, 69, 69, 69, 69, 69, 69, 69, 69, 69, 69, 69, 69, 69, 69, 69, 69, 69, 69, 69, 69, 69, 69, 69, 69, 69, 69] \n"
   ]
  },
  {
   "cell_type": "code",
   "execution_count": 231,
   "id": "85eb7f49-85e5-41af-8316-39d42a4c6ce5",
   "metadata": {},
   "outputs": [
    {
     "data": {
      "text/plain": [
       "'d659790785f8674bd78a6ff39c305b87e5f39246007f30cc41f754364c6b4b52'"
      ]
     },
     "execution_count": 231,
     "metadata": {},
     "output_type": "execute_result"
    }
   ],
   "source": [
    "hashlib.sha256(b'00000000000000004545454545454545454545454545454545454545454545454545454545454545').hexdigest()"
   ]
  },
  {
   "cell_type": "code",
   "execution_count": 47,
   "id": "98854c6b-3152-49c8-9a52-0cd2c9b2e770",
   "metadata": {},
   "outputs": [
    {
     "name": "stdout",
     "output_type": "stream",
     "text": [
      "\n",
      "block_hash 0x4545454545454545454545454545454545454545454545454545454545454545 \n",
      "nonce 0 \n",
      "nonce_bytes b'0000000000000000' \n",
      "block bytes b'4545454545454545454545454545454545454545454545454545454545454545' \n",
      "pre_seal b'00000000000000004545454545454545454545454545454545454545454545454545454545454545' \n",
      "seal 6c80540f3d8a9d101bb881dc0fb9a972d1e2deabffd77af6668c31dd6fe34617\n",
      "6c80540f3d8a9d101bb881dc0fb9a972d1e2deabffd77af6668c31dd6fe34617\n"
     ]
    },
    {
     "ename": "TypeError",
     "evalue": "cannot convert 'str' object to bytes",
     "output_type": "error",
     "traceback": [
      "\u001b[0;31m---------------------------------------------------------------------------\u001b[0m",
      "\u001b[0;31mTypeError\u001b[0m                                 Traceback (most recent call last)",
      "\u001b[0;32m<ipython-input-47-39411dfadce4>\u001b[0m in \u001b[0;36m<module>\u001b[0;34m\u001b[0m\n\u001b[1;32m      1\u001b[0m \u001b[0mdifficulty\u001b[0m \u001b[0;34m=\u001b[0m \u001b[0;36m10\u001b[0m\u001b[0;34m\u001b[0m\u001b[0;34m\u001b[0m\u001b[0m\n\u001b[1;32m      2\u001b[0m \u001b[0mblock_hash\u001b[0m \u001b[0;34m=\u001b[0m \u001b[0;34m'0x4545454545454545454545454545454545454545454545454545454545454545'\u001b[0m\u001b[0;34m\u001b[0m\u001b[0;34m\u001b[0m\u001b[0m\n\u001b[0;32m----> 3\u001b[0;31m \u001b[0mnonce\u001b[0m\u001b[0;34m,\u001b[0m \u001b[0mseal\u001b[0m \u001b[0;34m=\u001b[0m \u001b[0msolve_for_difficulty\u001b[0m\u001b[0;34m(\u001b[0m \u001b[0mblock_hash\u001b[0m\u001b[0;34m,\u001b[0m \u001b[0mdifficulty\u001b[0m \u001b[0;34m)\u001b[0m\u001b[0;34m\u001b[0m\u001b[0;34m\u001b[0m\u001b[0m\n\u001b[0m\u001b[1;32m      4\u001b[0m \u001b[0;34m\u001b[0m\u001b[0m\n\u001b[1;32m      5\u001b[0m \u001b[0;34m\"expected: 0x6c80540f3d8a9d101bb881dc0fb9a972d1e2deabffd77af6668c31dd6fe34617\"\u001b[0m\u001b[0;34m\u001b[0m\u001b[0;34m\u001b[0m\u001b[0m\n",
      "\u001b[0;32m<ipython-input-46-e17603e4277f>\u001b[0m in \u001b[0;36msolve_for_difficulty\u001b[0;34m(block_hash, difficulty)\u001b[0m\n\u001b[1;32m     46\u001b[0m         \u001b[0mnonce\u001b[0m \u001b[0;34m+=\u001b[0m \u001b[0;36m1\u001b[0m\u001b[0;34m\u001b[0m\u001b[0;34m\u001b[0m\u001b[0m\n\u001b[1;32m     47\u001b[0m         \u001b[0mseal\u001b[0m \u001b[0;34m=\u001b[0m \u001b[0mcreate_seal_hash\u001b[0m\u001b[0;34m(\u001b[0m \u001b[0mblock_hash\u001b[0m\u001b[0;34m,\u001b[0m \u001b[0mnonce\u001b[0m \u001b[0;34m)\u001b[0m\u001b[0;34m\u001b[0m\u001b[0;34m\u001b[0m\u001b[0m\n\u001b[0;32m---> 48\u001b[0;31m         \u001b[0mmeets\u001b[0m \u001b[0;34m=\u001b[0m \u001b[0mseal_meets_difficulty\u001b[0m\u001b[0;34m(\u001b[0m \u001b[0mseal\u001b[0m\u001b[0;34m,\u001b[0m \u001b[0mdifficulty\u001b[0m \u001b[0;34m)\u001b[0m\u001b[0;34m\u001b[0m\u001b[0;34m\u001b[0m\u001b[0m\n\u001b[0m\u001b[1;32m     49\u001b[0m         \u001b[0;32mif\u001b[0m \u001b[0mnonce\u001b[0m \u001b[0;34m>\u001b[0m \u001b[0;36m1\u001b[0m\u001b[0;34m:\u001b[0m\u001b[0;34m\u001b[0m\u001b[0;34m\u001b[0m\u001b[0m\n\u001b[1;32m     50\u001b[0m             \u001b[0;32mbreak\u001b[0m\u001b[0;34m\u001b[0m\u001b[0;34m\u001b[0m\u001b[0m\n",
      "\u001b[0;32m<ipython-input-46-e17603e4277f>\u001b[0m in \u001b[0;36mseal_meets_difficulty\u001b[0;34m(seal, difficulty)\u001b[0m\n\u001b[1;32m     31\u001b[0m \u001b[0;32mdef\u001b[0m \u001b[0mseal_meets_difficulty\u001b[0m\u001b[0;34m(\u001b[0m \u001b[0mseal\u001b[0m\u001b[0;34m:\u001b[0m\u001b[0mbytes\u001b[0m\u001b[0;34m,\u001b[0m \u001b[0mdifficulty\u001b[0m\u001b[0;34m:\u001b[0m\u001b[0mint\u001b[0m \u001b[0;34m)\u001b[0m\u001b[0;34m:\u001b[0m\u001b[0;34m\u001b[0m\u001b[0;34m\u001b[0m\u001b[0m\n\u001b[1;32m     32\u001b[0m     \u001b[0mprint\u001b[0m \u001b[0;34m(\u001b[0m\u001b[0mseal\u001b[0m\u001b[0;34m)\u001b[0m\u001b[0;34m\u001b[0m\u001b[0;34m\u001b[0m\u001b[0m\n\u001b[0;32m---> 33\u001b[0;31m     \u001b[0mseal_number\u001b[0m \u001b[0;34m=\u001b[0m \u001b[0mint\u001b[0m\u001b[0;34m.\u001b[0m\u001b[0mfrom_bytes\u001b[0m\u001b[0;34m(\u001b[0m\u001b[0mseal\u001b[0m\u001b[0;34m,\u001b[0m \u001b[0;34m\"little\"\u001b[0m\u001b[0;34m)\u001b[0m\u001b[0;34m\u001b[0m\u001b[0;34m\u001b[0m\u001b[0m\n\u001b[0m\u001b[1;32m     34\u001b[0m     \u001b[0mproduct\u001b[0m \u001b[0;34m=\u001b[0m \u001b[0mseal_number\u001b[0m \u001b[0;34m*\u001b[0m \u001b[0mdifficulty\u001b[0m\u001b[0;34m\u001b[0m\u001b[0;34m\u001b[0m\u001b[0m\n\u001b[1;32m     35\u001b[0m     \u001b[0mlimit\u001b[0m \u001b[0;34m=\u001b[0m \u001b[0mint\u001b[0m\u001b[0;34m(\u001b[0m\u001b[0mmath\u001b[0m\u001b[0;34m.\u001b[0m\u001b[0mpow\u001b[0m\u001b[0;34m(\u001b[0m\u001b[0;36m2\u001b[0m\u001b[0;34m,\u001b[0m\u001b[0;36m256\u001b[0m\u001b[0;34m)\u001b[0m \u001b[0;34m-\u001b[0m \u001b[0;36m1\u001b[0m\u001b[0;34m)\u001b[0m\u001b[0;34m\u001b[0m\u001b[0;34m\u001b[0m\u001b[0m\n",
      "\u001b[0;31mTypeError\u001b[0m: cannot convert 'str' object to bytes"
     ]
    }
   ],
   "source": [
    "difficulty = 10\n",
    "block_hash = '0x4545454545454545454545454545454545454545454545454545454545454545'\n",
    "nonce, seal = solve_for_difficulty( block_hash, difficulty )\n",
    "\n",
    "\"expected: 0x6c80540f3d8a9d101bb881dc0fb9a972d1e2deabffd77af6668c31dd6fe34617\""
   ]
  },
  {
   "cell_type": "code",
   "execution_count": null,
   "id": "f046dcd0-c978-4298-aa16-ddeb830b0d03",
   "metadata": {},
   "outputs": [],
   "source": [
    "49076524228857805642519269603444689103670036366038078271349905928701071279639"
   ]
  },
  {
   "cell_type": "code",
   "execution_count": 57,
   "id": "fa45191b-f6c1-40ba-8f2e-f24eeee6b9d6",
   "metadata": {},
   "outputs": [
    {
     "data": {
      "text/plain": [
       "49076524228857805642519269603444689103670036366038078271349905928701071279639"
      ]
     },
     "execution_count": 57,
     "metadata": {},
     "output_type": "execute_result"
    }
   ],
   "source": [
    "int.from_bytes( b'l\\x80T\\x0f=\\x8a\\x9d\\x10\\x1b\\xb8\\x81\\xdc\\x0f\\xb9\\xa9r\\xd1\\xe2\\xde\\xab\\xff\\xd7z\\xf6f\\x8c1\\xddo\\xe3F\\x17', 'big')"
   ]
  },
  {
   "cell_type": "code",
   "execution_count": 58,
   "id": "2988939a-966c-4a3a-abd5-5b9fc831045e",
   "metadata": {},
   "outputs": [
    {
     "data": {
      "text/plain": [
       "49076524228857805642519269603444689103670036366038078271349905928701071279639"
      ]
     },
     "execution_count": 58,
     "metadata": {},
     "output_type": "execute_result"
    }
   ],
   "source": [
    "49076524228857805642519269603444689103670036366038078271349905928701071279639 * 1"
   ]
  },
  {
   "cell_type": "code",
   "execution_count": 59,
   "id": "f31ee4b4-c92d-45c4-ab61-3a96a29f4ab9",
   "metadata": {},
   "outputs": [
    {
     "data": {
      "text/plain": [
       "115792089237316195423570985008687907853269984665640564039457584007913129639936"
      ]
     },
     "execution_count": 59,
     "metadata": {},
     "output_type": "execute_result"
    }
   ],
   "source": [
    "int(math.pow(2,256) - 1)"
   ]
  },
  {
   "cell_type": "code",
   "execution_count": 174,
   "id": "02841d2b-9ceb-47f2-8f22-9630cd465713",
   "metadata": {},
   "outputs": [
    {
     "ename": "KeyboardInterrupt",
     "evalue": "",
     "output_type": "error",
     "traceback": [
      "\u001b[0;31m---------------------------------------------------------------------------\u001b[0m",
      "\u001b[0;31mKeyboardInterrupt\u001b[0m                         Traceback (most recent call last)",
      "\u001b[0;32m<ipython-input-174-39343c51cd63>\u001b[0m in \u001b[0;36m<module>\u001b[0;34m\u001b[0m\n\u001b[1;32m     34\u001b[0m     \u001b[0;32mreturn\u001b[0m \u001b[0mall_iters\u001b[0m\u001b[0;34m,\u001b[0m \u001b[0mall_times\u001b[0m\u001b[0;34m,\u001b[0m \u001b[0mdifficulties\u001b[0m\u001b[0;34m\u001b[0m\u001b[0;34m\u001b[0m\u001b[0m\n\u001b[1;32m     35\u001b[0m \u001b[0;34m\u001b[0m\u001b[0m\n\u001b[0;32m---> 36\u001b[0;31m \u001b[0mavg_iters\u001b[0m\u001b[0;34m,\u001b[0m \u001b[0mavg_time\u001b[0m\u001b[0;34m,\u001b[0m \u001b[0mdifficulties\u001b[0m \u001b[0;34m=\u001b[0m \u001b[0mtimes_for_powers_of_ten\u001b[0m\u001b[0;34m(\u001b[0m\u001b[0;36m4\u001b[0m\u001b[0;34m,\u001b[0m \u001b[0;36m10\u001b[0m\u001b[0;34m)\u001b[0m\u001b[0;34m\u001b[0m\u001b[0;34m\u001b[0m\u001b[0m\n\u001b[0m\u001b[1;32m     37\u001b[0m \u001b[0;34m\u001b[0m\u001b[0m\n\u001b[1;32m     38\u001b[0m \u001b[0mplt\u001b[0m\u001b[0;34m.\u001b[0m\u001b[0mplot\u001b[0m\u001b[0;34m(\u001b[0m \u001b[0mdifficulties\u001b[0m\u001b[0;34m,\u001b[0m \u001b[0mavg_iters\u001b[0m \u001b[0;34m)\u001b[0m\u001b[0;34m\u001b[0m\u001b[0;34m\u001b[0m\u001b[0m\n",
      "\u001b[0;32m<ipython-input-174-39343c51cd63>\u001b[0m in \u001b[0;36mtimes_for_powers_of_ten\u001b[0;34m(n, k)\u001b[0m\n\u001b[1;32m     27\u001b[0m     \u001b[0;32mfor\u001b[0m \u001b[0mi\u001b[0m \u001b[0;32min\u001b[0m \u001b[0mrange\u001b[0m\u001b[0;34m(\u001b[0m \u001b[0mn\u001b[0m \u001b[0;34m)\u001b[0m\u001b[0;34m:\u001b[0m\u001b[0;34m\u001b[0m\u001b[0;34m\u001b[0m\u001b[0m\n\u001b[1;32m     28\u001b[0m         \u001b[0mdifficulty\u001b[0m \u001b[0;34m=\u001b[0m \u001b[0mmath\u001b[0m\u001b[0;34m.\u001b[0m\u001b[0mpow\u001b[0m\u001b[0;34m(\u001b[0m \u001b[0;36m10\u001b[0m\u001b[0;34m,\u001b[0m \u001b[0mi\u001b[0m\u001b[0;34m+\u001b[0m\u001b[0;36m1\u001b[0m \u001b[0;34m)\u001b[0m\u001b[0;34m\u001b[0m\u001b[0;34m\u001b[0m\u001b[0m\n\u001b[0;32m---> 29\u001b[0;31m         \u001b[0miters\u001b[0m\u001b[0;34m,\u001b[0m \u001b[0mtime\u001b[0m \u001b[0;34m=\u001b[0m \u001b[0maverage_for_difficulty\u001b[0m\u001b[0;34m(\u001b[0m \u001b[0mk\u001b[0m\u001b[0;34m,\u001b[0m \u001b[0mdifficulty\u001b[0m\u001b[0;34m)\u001b[0m\u001b[0;34m\u001b[0m\u001b[0;34m\u001b[0m\u001b[0m\n\u001b[0m\u001b[1;32m     30\u001b[0m         \u001b[0mall_iters\u001b[0m\u001b[0;34m.\u001b[0m\u001b[0mappend\u001b[0m\u001b[0;34m(\u001b[0m \u001b[0miters\u001b[0m \u001b[0;34m)\u001b[0m\u001b[0;34m\u001b[0m\u001b[0;34m\u001b[0m\u001b[0m\n\u001b[1;32m     31\u001b[0m         \u001b[0mall_times\u001b[0m\u001b[0;34m.\u001b[0m\u001b[0mappend\u001b[0m\u001b[0;34m(\u001b[0m \u001b[0mtime\u001b[0m \u001b[0;34m)\u001b[0m\u001b[0;34m\u001b[0m\u001b[0;34m\u001b[0m\u001b[0m\n",
      "\u001b[0;32m<ipython-input-174-39343c51cd63>\u001b[0m in \u001b[0;36maverage_for_difficulty\u001b[0;34m(n, difficulty)\u001b[0m\n\u001b[1;32m     17\u001b[0m     \u001b[0;32mfor\u001b[0m \u001b[0m_\u001b[0m \u001b[0;32min\u001b[0m \u001b[0mrange\u001b[0m\u001b[0;34m(\u001b[0m\u001b[0mn\u001b[0m\u001b[0;34m)\u001b[0m\u001b[0;34m:\u001b[0m\u001b[0;34m\u001b[0m\u001b[0;34m\u001b[0m\u001b[0m\n\u001b[1;32m     18\u001b[0m         \u001b[0mstart\u001b[0m \u001b[0;34m=\u001b[0m \u001b[0mtime\u001b[0m\u001b[0;34m.\u001b[0m\u001b[0mtime\u001b[0m\u001b[0;34m(\u001b[0m\u001b[0;34m)\u001b[0m\u001b[0;34m\u001b[0m\u001b[0;34m\u001b[0m\u001b[0m\n\u001b[0;32m---> 19\u001b[0;31m         \u001b[0msum_iters\u001b[0m \u001b[0;34m+=\u001b[0m \u001b[0msolve_for_difficulty\u001b[0m\u001b[0;34m(\u001b[0m\u001b[0mblock_hash\u001b[0m\u001b[0;34m,\u001b[0m \u001b[0mdifficulty\u001b[0m\u001b[0;34m)\u001b[0m\u001b[0;34m\u001b[0m\u001b[0;34m\u001b[0m\u001b[0m\n\u001b[0m\u001b[1;32m     20\u001b[0m         \u001b[0msum_times\u001b[0m \u001b[0;34m+=\u001b[0m \u001b[0mtime\u001b[0m\u001b[0;34m.\u001b[0m\u001b[0mtime\u001b[0m\u001b[0;34m(\u001b[0m\u001b[0;34m)\u001b[0m \u001b[0;34m-\u001b[0m \u001b[0mstart\u001b[0m\u001b[0;34m\u001b[0m\u001b[0;34m\u001b[0m\u001b[0m\n\u001b[1;32m     21\u001b[0m     \u001b[0;32mreturn\u001b[0m \u001b[0msum_iters\u001b[0m\u001b[0;34m/\u001b[0m\u001b[0mn\u001b[0m\u001b[0;34m,\u001b[0m \u001b[0msum_times\u001b[0m\u001b[0;34m/\u001b[0m\u001b[0mn\u001b[0m\u001b[0;34m\u001b[0m\u001b[0;34m\u001b[0m\u001b[0m\n",
      "\u001b[0;32m<ipython-input-174-39343c51cd63>\u001b[0m in \u001b[0;36msolve_for_difficulty\u001b[0;34m(block_hash, difficulty)\u001b[0m\n\u001b[1;32m      8\u001b[0m         \u001b[0mnonce\u001b[0m \u001b[0;34m+=\u001b[0m \u001b[0;36m1\u001b[0m\u001b[0;34m\u001b[0m\u001b[0;34m\u001b[0m\u001b[0m\n\u001b[1;32m      9\u001b[0m         \u001b[0mseal\u001b[0m \u001b[0;34m=\u001b[0m \u001b[0mcreate_seal_hash\u001b[0m\u001b[0;34m(\u001b[0m \u001b[0mblock_hash\u001b[0m\u001b[0;34m,\u001b[0m \u001b[0mnonce\u001b[0m \u001b[0;34m)\u001b[0m\u001b[0;34m\u001b[0m\u001b[0;34m\u001b[0m\u001b[0m\n\u001b[0;32m---> 10\u001b[0;31m         \u001b[0mmeets\u001b[0m \u001b[0;34m=\u001b[0m \u001b[0mseal_meets_difficulty\u001b[0m\u001b[0;34m(\u001b[0m \u001b[0mseal\u001b[0m\u001b[0;34m,\u001b[0m \u001b[0mdifficulty\u001b[0m \u001b[0;34m)\u001b[0m\u001b[0;34m\u001b[0m\u001b[0;34m\u001b[0m\u001b[0m\n\u001b[0m\u001b[1;32m     11\u001b[0m     \u001b[0;32mreturn\u001b[0m \u001b[0mnonce\u001b[0m\u001b[0;34m\u001b[0m\u001b[0;34m\u001b[0m\u001b[0m\n\u001b[1;32m     12\u001b[0m \u001b[0;34m\u001b[0m\u001b[0m\n",
      "\u001b[0;32m<ipython-input-172-68d022accf7a>\u001b[0m in \u001b[0;36mseal_meets_difficulty\u001b[0;34m(seal, difficulty)\u001b[0m\n\u001b[1;32m     23\u001b[0m     \u001b[0mseal_number\u001b[0m \u001b[0;34m=\u001b[0m \u001b[0mint\u001b[0m\u001b[0;34m.\u001b[0m\u001b[0mfrom_bytes\u001b[0m\u001b[0;34m(\u001b[0m\u001b[0mseal\u001b[0m\u001b[0;34m,\u001b[0m \u001b[0;34m\"little\"\u001b[0m\u001b[0;34m)\u001b[0m\u001b[0;34m\u001b[0m\u001b[0;34m\u001b[0m\u001b[0m\n\u001b[1;32m     24\u001b[0m     \u001b[0mproduct\u001b[0m \u001b[0;34m=\u001b[0m \u001b[0mseal_number\u001b[0m \u001b[0;34m*\u001b[0m \u001b[0mdifficulty\u001b[0m\u001b[0;34m\u001b[0m\u001b[0;34m\u001b[0m\u001b[0m\n\u001b[0;32m---> 25\u001b[0;31m     \u001b[0mlimit\u001b[0m \u001b[0;34m=\u001b[0m \u001b[0mint\u001b[0m\u001b[0;34m(\u001b[0m\u001b[0mmath\u001b[0m\u001b[0;34m.\u001b[0m\u001b[0mpow\u001b[0m\u001b[0;34m(\u001b[0m\u001b[0;36m2\u001b[0m\u001b[0;34m,\u001b[0m\u001b[0;36m256\u001b[0m\u001b[0;34m)\u001b[0m \u001b[0;34m-\u001b[0m \u001b[0;36m1\u001b[0m\u001b[0;34m)\u001b[0m\u001b[0;34m\u001b[0m\u001b[0;34m\u001b[0m\u001b[0m\n\u001b[0m\u001b[1;32m     26\u001b[0m     \u001b[0;31m# print ('\\nseal:', seal, '\\nseal_number:', seal_number, '\\ndifficulty:', difficulty, '\\nproduct:', product, '\\nlimit:', limit,  '\\ndif:', limit - product)\u001b[0m\u001b[0;34m\u001b[0m\u001b[0;34m\u001b[0m\u001b[0;34m\u001b[0m\u001b[0m\n\u001b[1;32m     27\u001b[0m     \u001b[0;32mif\u001b[0m \u001b[0mproduct\u001b[0m \u001b[0;34m>\u001b[0m \u001b[0mmath\u001b[0m\u001b[0;34m.\u001b[0m\u001b[0mpow\u001b[0m\u001b[0;34m(\u001b[0m\u001b[0;36m2\u001b[0m\u001b[0;34m,\u001b[0m\u001b[0;36m256\u001b[0m\u001b[0;34m)\u001b[0m \u001b[0;34m-\u001b[0m \u001b[0;36m1\u001b[0m\u001b[0;34m:\u001b[0m\u001b[0;34m\u001b[0m\u001b[0;34m\u001b[0m\u001b[0m\n",
      "\u001b[0;31mKeyboardInterrupt\u001b[0m: "
     ]
    }
   ],
   "source": [
    "\n",
    "import time\n",
    "import matplotlib.pyplot as plt\n",
    "\n",
    "\n",
    "def average_for_difficulty( n, difficulty ):\n",
    "    sum_iters = 0\n",
    "    sum_times = 0\n",
    "    block_hash = sub.substrate.get_block_hash(sub.get_current_block())\n",
    "    for _ in range(n):\n",
    "        start = time.time()\n",
    "        sum_iters += solve_for_difficulty(block_hash, difficulty)\n",
    "        sum_times += time.time() - start\n",
    "    return sum_iters/n, sum_times/n\n",
    "\n",
    "def times_for_powers_of_ten( n, k ):\n",
    "    all_iters = []\n",
    "    all_times = []\n",
    "    difficulties = []\n",
    "    for i in range( n ):\n",
    "        difficulty = math.pow( 10, i+1 )\n",
    "        iters, time = average_for_difficulty( k, difficulty)\n",
    "        all_iters.append( iters )\n",
    "        all_times.append( time )\n",
    "        difficulties.append( difficulty )\n",
    "    \n",
    "    return all_iters, all_times, difficulties\n",
    "        \n",
    "avg_iters, avg_time, difficulties = times_for_powers_of_ten(4, 10)\n",
    "\n",
    "plt.plot( difficulties, avg_iters )\n"
   ]
  },
  {
   "cell_type": "code",
   "execution_count": 71,
   "id": "1d42d41e-23f3-4bcb-b5c3-69758cb01dfc",
   "metadata": {},
   "outputs": [
    {
     "name": "stdout",
     "output_type": "stream",
     "text": [
      "b'\\xe8\\x03\\x00\\x00\\x00\\x00\\x00\\x00'\n",
      "b'e803000000000000'\n",
      "b'\\xe8\\x03\\x00\\x00\\x00\\x00\\x00\\x00'\n"
     ]
    }
   ],
   "source": [
    "int_val = 10\n",
    "bytes_val = int_val.to_bytes(8, 'little')\n",
    "print (struct.pack(\"L\", int_val))\n",
    "print( int_to_bytes(int_val))\n",
    "print(bytes_val)"
   ]
  },
  {
   "cell_type": "code",
   "execution_count": 37,
   "id": "00426674-e81d-4cc5-9d73-c0902f5d9b34",
   "metadata": {},
   "outputs": [
    {
     "ename": "ValueError",
     "evalue": "invalid literal for int() with base 16: b'V\\x18'",
     "output_type": "error",
     "traceback": [
      "\u001b[0;31m---------------------------------------------------------------------------\u001b[0m",
      "\u001b[0;31mValueError\u001b[0m                                Traceback (most recent call last)",
      "\u001b[0;32m<ipython-input-37-429fe929d542>\u001b[0m in \u001b[0;36m<module>\u001b[0;34m\u001b[0m\n\u001b[0;32m----> 1\u001b[0;31m \u001b[0mhex_bytes_to_u8_list\u001b[0m \u001b[0;34m(\u001b[0m \u001b[0mseal\u001b[0m\u001b[0;34m)\u001b[0m\u001b[0;34m\u001b[0m\u001b[0;34m\u001b[0m\u001b[0m\n\u001b[0m",
      "\u001b[0;32m<ipython-input-34-5b2bc643e439>\u001b[0m in \u001b[0;36mhex_bytes_to_u8_list\u001b[0;34m(hex_bytes)\u001b[0m\n\u001b[1;32m     12\u001b[0m \u001b[0;34m\u001b[0m\u001b[0m\n\u001b[1;32m     13\u001b[0m \u001b[0;32mdef\u001b[0m \u001b[0mhex_bytes_to_u8_list\u001b[0m\u001b[0;34m(\u001b[0m \u001b[0mhex_bytes\u001b[0m\u001b[0;34m:\u001b[0m \u001b[0mbytes\u001b[0m \u001b[0;34m)\u001b[0m\u001b[0;34m:\u001b[0m\u001b[0;34m\u001b[0m\u001b[0;34m\u001b[0m\u001b[0m\n\u001b[0;32m---> 14\u001b[0;31m     \u001b[0mhex_chunks\u001b[0m \u001b[0;34m=\u001b[0m \u001b[0;34m[\u001b[0m\u001b[0mint\u001b[0m\u001b[0;34m(\u001b[0m\u001b[0mhex_bytes\u001b[0m\u001b[0;34m[\u001b[0m\u001b[0mi\u001b[0m\u001b[0;34m:\u001b[0m\u001b[0mi\u001b[0m\u001b[0;34m+\u001b[0m\u001b[0;36m2\u001b[0m\u001b[0;34m]\u001b[0m\u001b[0;34m,\u001b[0m \u001b[0;36m16\u001b[0m\u001b[0;34m)\u001b[0m \u001b[0;32mfor\u001b[0m \u001b[0mi\u001b[0m \u001b[0;32min\u001b[0m \u001b[0mrange\u001b[0m\u001b[0;34m(\u001b[0m\u001b[0;36m0\u001b[0m\u001b[0;34m,\u001b[0m \u001b[0mlen\u001b[0m\u001b[0;34m(\u001b[0m\u001b[0mhex_bytes\u001b[0m\u001b[0;34m)\u001b[0m\u001b[0;34m,\u001b[0m \u001b[0;36m2\u001b[0m\u001b[0;34m)\u001b[0m\u001b[0;34m]\u001b[0m\u001b[0;34m\u001b[0m\u001b[0;34m\u001b[0m\u001b[0m\n\u001b[0m\u001b[1;32m     15\u001b[0m     \u001b[0;32mreturn\u001b[0m \u001b[0mhex_chunks\u001b[0m\u001b[0;34m\u001b[0m\u001b[0;34m\u001b[0m\u001b[0m\n\u001b[1;32m     16\u001b[0m \u001b[0;34m\u001b[0m\u001b[0m\n",
      "\u001b[0;32m<ipython-input-34-5b2bc643e439>\u001b[0m in \u001b[0;36m<listcomp>\u001b[0;34m(.0)\u001b[0m\n\u001b[1;32m     12\u001b[0m \u001b[0;34m\u001b[0m\u001b[0m\n\u001b[1;32m     13\u001b[0m \u001b[0;32mdef\u001b[0m \u001b[0mhex_bytes_to_u8_list\u001b[0m\u001b[0;34m(\u001b[0m \u001b[0mhex_bytes\u001b[0m\u001b[0;34m:\u001b[0m \u001b[0mbytes\u001b[0m \u001b[0;34m)\u001b[0m\u001b[0;34m:\u001b[0m\u001b[0;34m\u001b[0m\u001b[0;34m\u001b[0m\u001b[0m\n\u001b[0;32m---> 14\u001b[0;31m     \u001b[0mhex_chunks\u001b[0m \u001b[0;34m=\u001b[0m \u001b[0;34m[\u001b[0m\u001b[0mint\u001b[0m\u001b[0;34m(\u001b[0m\u001b[0mhex_bytes\u001b[0m\u001b[0;34m[\u001b[0m\u001b[0mi\u001b[0m\u001b[0;34m:\u001b[0m\u001b[0mi\u001b[0m\u001b[0;34m+\u001b[0m\u001b[0;36m2\u001b[0m\u001b[0;34m]\u001b[0m\u001b[0;34m,\u001b[0m \u001b[0;36m16\u001b[0m\u001b[0;34m)\u001b[0m \u001b[0;32mfor\u001b[0m \u001b[0mi\u001b[0m \u001b[0;32min\u001b[0m \u001b[0mrange\u001b[0m\u001b[0;34m(\u001b[0m\u001b[0;36m0\u001b[0m\u001b[0;34m,\u001b[0m \u001b[0mlen\u001b[0m\u001b[0;34m(\u001b[0m\u001b[0mhex_bytes\u001b[0m\u001b[0;34m)\u001b[0m\u001b[0;34m,\u001b[0m \u001b[0;36m2\u001b[0m\u001b[0;34m)\u001b[0m\u001b[0;34m]\u001b[0m\u001b[0;34m\u001b[0m\u001b[0;34m\u001b[0m\u001b[0m\n\u001b[0m\u001b[1;32m     15\u001b[0m     \u001b[0;32mreturn\u001b[0m \u001b[0mhex_chunks\u001b[0m\u001b[0;34m\u001b[0m\u001b[0;34m\u001b[0m\u001b[0m\n\u001b[1;32m     16\u001b[0m \u001b[0;34m\u001b[0m\u001b[0m\n",
      "\u001b[0;31mValueError\u001b[0m: invalid literal for int() with base 16: b'V\\x18'"
     ]
    }
   ],
   "source": [
    "hex_bytes_to_u8_list ( seal)"
   ]
  },
  {
   "cell_type": "code",
   "execution_count": 3,
   "id": "eaecdddd-7917-4886-a6d4-f2b257ac52db",
   "metadata": {},
   "outputs": [
    {
     "data": {
      "text/plain": [
       "[10, 0, 0, 0, 0, 0, 0, 0]"
      ]
     },
     "execution_count": 3,
     "metadata": {},
     "output_type": "execute_result"
    }
   ],
   "source": [
    "hex_bytes_to_u8_list ( nonce_to_bytes( 10 ) )"
   ]
  },
  {
   "cell_type": "code",
   "execution_count": null,
   "id": "4843e95b-1fa6-4b9f-888f-48ce8babe5ef",
   "metadata": {},
   "outputs": [],
   "source": [
    "hex_bytes_to_u8_list( )"
   ]
  },
  {
   "cell_type": "code",
   "execution_count": 22,
   "id": "5adc123e-def7-4ea8-9c05-2f0b6f813083",
   "metadata": {},
   "outputs": [
    {
     "ename": "TypeError",
     "evalue": "a bytes-like object is required, not 'str'",
     "output_type": "error",
     "traceback": [
      "\u001b[0;31m---------------------------------------------------------------------------\u001b[0m",
      "\u001b[0;31mTypeError\u001b[0m                                 Traceback (most recent call last)",
      "\u001b[0;32m<ipython-input-22-63f11c1e768f>\u001b[0m in \u001b[0;36m<module>\u001b[0;34m\u001b[0m\n\u001b[1;32m    261\u001b[0m \u001b[0;34m\u001b[0m\u001b[0m\n\u001b[1;32m    262\u001b[0m \u001b[0;32mif\u001b[0m \u001b[0m__name__\u001b[0m \u001b[0;34m==\u001b[0m \u001b[0;34m\"__main__\"\u001b[0m\u001b[0;34m:\u001b[0m\u001b[0;34m\u001b[0m\u001b[0;34m\u001b[0m\u001b[0m\n\u001b[0;32m--> 263\u001b[0;31m     \u001b[0mtest\u001b[0m\u001b[0;34m(\u001b[0m\u001b[0;34m)\u001b[0m\u001b[0;34m\u001b[0m\u001b[0;34m\u001b[0m\u001b[0m\n\u001b[0m\u001b[1;32m    264\u001b[0m \u001b[0;34m\u001b[0m\u001b[0m\n",
      "\u001b[0;32m<ipython-input-22-63f11c1e768f>\u001b[0m in \u001b[0;36mtest\u001b[0;34m()\u001b[0m\n\u001b[1;32m    253\u001b[0m \u001b[0;34m\u001b[0m\u001b[0m\n\u001b[1;32m    254\u001b[0m     \u001b[0;32massert\u001b[0m \u001b[0;34m'e3b0c44298fc1c149afbf4c8996fb92427ae41e4649b934ca495991b7852b855'\u001b[0m \u001b[0;34m==\u001b[0m \u001b[0msha256\u001b[0m\u001b[0;34m(\u001b[0m\u001b[0;34m)\u001b[0m\u001b[0;34m.\u001b[0m\u001b[0mhexdigest\u001b[0m\u001b[0;34m(\u001b[0m\u001b[0;34m)\u001b[0m\u001b[0;34m\u001b[0m\u001b[0;34m\u001b[0m\u001b[0m\n\u001b[0;32m--> 255\u001b[0;31m     \u001b[0;32massert\u001b[0m \u001b[0;34m'd7b553c6f09ac85d142415f857c5310f3bbbe7cdd787cce4b985acedd585266f'\u001b[0m \u001b[0;34m==\u001b[0m \u001b[0msha256\u001b[0m\u001b[0;34m(\u001b[0m\u001b[0ma_str\u001b[0m\u001b[0;34m)\u001b[0m\u001b[0;34m.\u001b[0m\u001b[0mhexdigest\u001b[0m\u001b[0;34m(\u001b[0m\u001b[0;34m)\u001b[0m\u001b[0;34m\u001b[0m\u001b[0;34m\u001b[0m\u001b[0m\n\u001b[0m\u001b[1;32m    256\u001b[0m     \u001b[0;32massert\u001b[0m \u001b[0;34m'8113ebf33c97daa9998762aacafe750c7cefc2b2f173c90c59663a57fe626f21'\u001b[0m \u001b[0;34m==\u001b[0m \u001b[0msha256\u001b[0m\u001b[0;34m(\u001b[0m\u001b[0ma_str\u001b[0m\u001b[0;34m*\u001b[0m\u001b[0;36m7\u001b[0m\u001b[0;34m)\u001b[0m\u001b[0;34m.\u001b[0m\u001b[0mhexdigest\u001b[0m\u001b[0;34m(\u001b[0m\u001b[0;34m)\u001b[0m\u001b[0;34m\u001b[0m\u001b[0;34m\u001b[0m\u001b[0m\n\u001b[1;32m    257\u001b[0m \u001b[0;34m\u001b[0m\u001b[0m\n",
      "\u001b[0;32m<ipython-input-22-63f11c1e768f>\u001b[0m in \u001b[0;36m__init__\u001b[0;34m(self, s)\u001b[0m\n\u001b[1;32m    220\u001b[0m         \u001b[0mself\u001b[0m\u001b[0;34m.\u001b[0m\u001b[0m_sha\u001b[0m \u001b[0;34m=\u001b[0m \u001b[0msha_init\u001b[0m\u001b[0;34m(\u001b[0m\u001b[0;34m)\u001b[0m\u001b[0;34m\u001b[0m\u001b[0;34m\u001b[0m\u001b[0m\n\u001b[1;32m    221\u001b[0m         \u001b[0;32mif\u001b[0m \u001b[0ms\u001b[0m\u001b[0;34m:\u001b[0m\u001b[0;34m\u001b[0m\u001b[0;34m\u001b[0m\u001b[0m\n\u001b[0;32m--> 222\u001b[0;31m             \u001b[0msha_update\u001b[0m\u001b[0;34m(\u001b[0m\u001b[0mself\u001b[0m\u001b[0;34m.\u001b[0m\u001b[0m_sha\u001b[0m\u001b[0;34m,\u001b[0m \u001b[0mgetbuf\u001b[0m\u001b[0;34m(\u001b[0m\u001b[0ms\u001b[0m\u001b[0;34m)\u001b[0m\u001b[0;34m)\u001b[0m\u001b[0;34m\u001b[0m\u001b[0;34m\u001b[0m\u001b[0m\n\u001b[0m\u001b[1;32m    223\u001b[0m \u001b[0;34m\u001b[0m\u001b[0m\n\u001b[1;32m    224\u001b[0m     \u001b[0;32mdef\u001b[0m \u001b[0mupdate\u001b[0m\u001b[0;34m(\u001b[0m\u001b[0mself\u001b[0m\u001b[0;34m,\u001b[0m \u001b[0ms\u001b[0m\u001b[0;34m)\u001b[0m\u001b[0;34m:\u001b[0m\u001b[0;34m\u001b[0m\u001b[0;34m\u001b[0m\u001b[0m\n",
      "\u001b[0;32m<ipython-input-22-63f11c1e768f>\u001b[0m in \u001b[0;36msha_update\u001b[0;34m(sha_info, buffer)\u001b[0m\n\u001b[1;32m    179\u001b[0m     \u001b[0;31m# copy buffer\u001b[0m\u001b[0;34m\u001b[0m\u001b[0;34m\u001b[0m\u001b[0;34m\u001b[0m\u001b[0m\n\u001b[1;32m    180\u001b[0m     \u001b[0mpos\u001b[0m \u001b[0;34m=\u001b[0m \u001b[0msha_info\u001b[0m\u001b[0;34m[\u001b[0m\u001b[0;34m'local'\u001b[0m\u001b[0;34m]\u001b[0m\u001b[0;34m\u001b[0m\u001b[0;34m\u001b[0m\u001b[0m\n\u001b[0;32m--> 181\u001b[0;31m     \u001b[0msha_info\u001b[0m\u001b[0;34m[\u001b[0m\u001b[0;34m'data'\u001b[0m\u001b[0;34m]\u001b[0m\u001b[0;34m[\u001b[0m\u001b[0mpos\u001b[0m\u001b[0;34m:\u001b[0m\u001b[0mpos\u001b[0m\u001b[0;34m+\u001b[0m\u001b[0mcount\u001b[0m\u001b[0;34m]\u001b[0m \u001b[0;34m=\u001b[0m \u001b[0;34m[\u001b[0m\u001b[0mstruct\u001b[0m\u001b[0;34m.\u001b[0m\u001b[0munpack\u001b[0m\u001b[0;34m(\u001b[0m\u001b[0;34m'B'\u001b[0m\u001b[0;34m,\u001b[0m\u001b[0mc\u001b[0m\u001b[0;34m)\u001b[0m\u001b[0;34m[\u001b[0m\u001b[0;36m0\u001b[0m\u001b[0;34m]\u001b[0m \u001b[0;32mfor\u001b[0m \u001b[0mc\u001b[0m \u001b[0;32min\u001b[0m \u001b[0mbuffer\u001b[0m\u001b[0;34m[\u001b[0m\u001b[0mbuffer_idx\u001b[0m\u001b[0;34m:\u001b[0m\u001b[0mbuffer_idx\u001b[0m \u001b[0;34m+\u001b[0m \u001b[0mcount\u001b[0m\u001b[0;34m]\u001b[0m\u001b[0;34m]\u001b[0m\u001b[0;34m\u001b[0m\u001b[0;34m\u001b[0m\u001b[0m\n\u001b[0m\u001b[1;32m    182\u001b[0m     \u001b[0msha_info\u001b[0m\u001b[0;34m[\u001b[0m\u001b[0;34m'local'\u001b[0m\u001b[0;34m]\u001b[0m \u001b[0;34m=\u001b[0m \u001b[0mcount\u001b[0m\u001b[0;34m\u001b[0m\u001b[0;34m\u001b[0m\u001b[0m\n\u001b[1;32m    183\u001b[0m \u001b[0;34m\u001b[0m\u001b[0m\n",
      "\u001b[0;32m<ipython-input-22-63f11c1e768f>\u001b[0m in \u001b[0;36m<listcomp>\u001b[0;34m(.0)\u001b[0m\n\u001b[1;32m    179\u001b[0m     \u001b[0;31m# copy buffer\u001b[0m\u001b[0;34m\u001b[0m\u001b[0;34m\u001b[0m\u001b[0;34m\u001b[0m\u001b[0m\n\u001b[1;32m    180\u001b[0m     \u001b[0mpos\u001b[0m \u001b[0;34m=\u001b[0m \u001b[0msha_info\u001b[0m\u001b[0;34m[\u001b[0m\u001b[0;34m'local'\u001b[0m\u001b[0;34m]\u001b[0m\u001b[0;34m\u001b[0m\u001b[0;34m\u001b[0m\u001b[0m\n\u001b[0;32m--> 181\u001b[0;31m     \u001b[0msha_info\u001b[0m\u001b[0;34m[\u001b[0m\u001b[0;34m'data'\u001b[0m\u001b[0;34m]\u001b[0m\u001b[0;34m[\u001b[0m\u001b[0mpos\u001b[0m\u001b[0;34m:\u001b[0m\u001b[0mpos\u001b[0m\u001b[0;34m+\u001b[0m\u001b[0mcount\u001b[0m\u001b[0;34m]\u001b[0m \u001b[0;34m=\u001b[0m \u001b[0;34m[\u001b[0m\u001b[0mstruct\u001b[0m\u001b[0;34m.\u001b[0m\u001b[0munpack\u001b[0m\u001b[0;34m(\u001b[0m\u001b[0;34m'B'\u001b[0m\u001b[0;34m,\u001b[0m\u001b[0mc\u001b[0m\u001b[0;34m)\u001b[0m\u001b[0;34m[\u001b[0m\u001b[0;36m0\u001b[0m\u001b[0;34m]\u001b[0m \u001b[0;32mfor\u001b[0m \u001b[0mc\u001b[0m \u001b[0;32min\u001b[0m \u001b[0mbuffer\u001b[0m\u001b[0;34m[\u001b[0m\u001b[0mbuffer_idx\u001b[0m\u001b[0;34m:\u001b[0m\u001b[0mbuffer_idx\u001b[0m \u001b[0;34m+\u001b[0m \u001b[0mcount\u001b[0m\u001b[0;34m]\u001b[0m\u001b[0;34m]\u001b[0m\u001b[0;34m\u001b[0m\u001b[0;34m\u001b[0m\u001b[0m\n\u001b[0m\u001b[1;32m    182\u001b[0m     \u001b[0msha_info\u001b[0m\u001b[0;34m[\u001b[0m\u001b[0;34m'local'\u001b[0m\u001b[0;34m]\u001b[0m \u001b[0;34m=\u001b[0m \u001b[0mcount\u001b[0m\u001b[0;34m\u001b[0m\u001b[0;34m\u001b[0m\u001b[0m\n\u001b[1;32m    183\u001b[0m \u001b[0;34m\u001b[0m\u001b[0m\n",
      "\u001b[0;31mTypeError\u001b[0m: a bytes-like object is required, not 'str'"
     ]
    }
   ],
   "source": [
    "import struct\n",
    "\n",
    "SHA_BLOCKSIZE = 64\n",
    "SHA_DIGESTSIZE = 32\n",
    "\n",
    "\n",
    "def new_shaobject():\n",
    "    return {\n",
    "        'digest': [0]*8,\n",
    "        'count_lo': 0,\n",
    "        'count_hi': 0,\n",
    "        'data': [0]* SHA_BLOCKSIZE,\n",
    "        'local': 0,\n",
    "        'digestsize': 0\n",
    "    }\n",
    "\n",
    "ROR = lambda x, y: (((x & 0xffffffff) >> (y & 31)) | (x << (32 - (y & 31)))) & 0xffffffff\n",
    "Ch = lambda x, y, z: (z ^ (x & (y ^ z)))\n",
    "Maj = lambda x, y, z: (((x | y) & z) | (x & y))\n",
    "S = lambda x, n: ROR(x, n)\n",
    "R = lambda x, n: (x & 0xffffffff) >> n\n",
    "Sigma0 = lambda x: (S(x, 2) ^ S(x, 13) ^ S(x, 22))\n",
    "Sigma1 = lambda x: (S(x, 6) ^ S(x, 11) ^ S(x, 25))\n",
    "Gamma0 = lambda x: (S(x, 7) ^ S(x, 18) ^ R(x, 3))\n",
    "Gamma1 = lambda x: (S(x, 17) ^ S(x, 19) ^ R(x, 10))\n",
    "\n",
    "def sha_transform(sha_info):\n",
    "    W = []\n",
    "    \n",
    "    d = sha_info['data']\n",
    "    for i in range(0,16):\n",
    "        W.append( (d[4*i]<<24) + (d[4*i+1]<<16) + (d[4*i+2]<<8) + d[4*i+3])\n",
    "    \n",
    "    for i in range(16,64):\n",
    "        W.append( (Gamma1(W[i - 2]) + W[i - 7] + Gamma0(W[i - 15]) + W[i - 16]) & 0xffffffff )\n",
    "    \n",
    "    ss = sha_info['digest'][:]\n",
    "    \n",
    "    def RND(a,b,c,d,e,f,g,h,i,ki):\n",
    "        t0 = h + Sigma1(e) + Ch(e, f, g) + ki + W[i];\n",
    "        t1 = Sigma0(a) + Maj(a, b, c);\n",
    "        d += t0;\n",
    "        h  = t0 + t1;\n",
    "        return d & 0xffffffff, h & 0xffffffff\n",
    "    \n",
    "    ss[3], ss[7] = RND(ss[0],ss[1],ss[2],ss[3],ss[4],ss[5],ss[6],ss[7],0,0x428a2f98);\n",
    "    ss[2], ss[6] = RND(ss[7],ss[0],ss[1],ss[2],ss[3],ss[4],ss[5],ss[6],1,0x71374491);\n",
    "    ss[1], ss[5] = RND(ss[6],ss[7],ss[0],ss[1],ss[2],ss[3],ss[4],ss[5],2,0xb5c0fbcf);\n",
    "    ss[0], ss[4] = RND(ss[5],ss[6],ss[7],ss[0],ss[1],ss[2],ss[3],ss[4],3,0xe9b5dba5);\n",
    "    ss[7], ss[3] = RND(ss[4],ss[5],ss[6],ss[7],ss[0],ss[1],ss[2],ss[3],4,0x3956c25b);\n",
    "    ss[6], ss[2] = RND(ss[3],ss[4],ss[5],ss[6],ss[7],ss[0],ss[1],ss[2],5,0x59f111f1);\n",
    "    ss[5], ss[1] = RND(ss[2],ss[3],ss[4],ss[5],ss[6],ss[7],ss[0],ss[1],6,0x923f82a4);\n",
    "    ss[4], ss[0] = RND(ss[1],ss[2],ss[3],ss[4],ss[5],ss[6],ss[7],ss[0],7,0xab1c5ed5);\n",
    "    ss[3], ss[7] = RND(ss[0],ss[1],ss[2],ss[3],ss[4],ss[5],ss[6],ss[7],8,0xd807aa98);\n",
    "    ss[2], ss[6] = RND(ss[7],ss[0],ss[1],ss[2],ss[3],ss[4],ss[5],ss[6],9,0x12835b01);\n",
    "    ss[1], ss[5] = RND(ss[6],ss[7],ss[0],ss[1],ss[2],ss[3],ss[4],ss[5],10,0x243185be);\n",
    "    ss[0], ss[4] = RND(ss[5],ss[6],ss[7],ss[0],ss[1],ss[2],ss[3],ss[4],11,0x550c7dc3);\n",
    "    ss[7], ss[3] = RND(ss[4],ss[5],ss[6],ss[7],ss[0],ss[1],ss[2],ss[3],12,0x72be5d74);\n",
    "    ss[6], ss[2] = RND(ss[3],ss[4],ss[5],ss[6],ss[7],ss[0],ss[1],ss[2],13,0x80deb1fe);\n",
    "    ss[5], ss[1] = RND(ss[2],ss[3],ss[4],ss[5],ss[6],ss[7],ss[0],ss[1],14,0x9bdc06a7);\n",
    "    ss[4], ss[0] = RND(ss[1],ss[2],ss[3],ss[4],ss[5],ss[6],ss[7],ss[0],15,0xc19bf174);\n",
    "    ss[3], ss[7] = RND(ss[0],ss[1],ss[2],ss[3],ss[4],ss[5],ss[6],ss[7],16,0xe49b69c1);\n",
    "    ss[2], ss[6] = RND(ss[7],ss[0],ss[1],ss[2],ss[3],ss[4],ss[5],ss[6],17,0xefbe4786);\n",
    "    ss[1], ss[5] = RND(ss[6],ss[7],ss[0],ss[1],ss[2],ss[3],ss[4],ss[5],18,0x0fc19dc6);\n",
    "    ss[0], ss[4] = RND(ss[5],ss[6],ss[7],ss[0],ss[1],ss[2],ss[3],ss[4],19,0x240ca1cc);\n",
    "    ss[7], ss[3] = RND(ss[4],ss[5],ss[6],ss[7],ss[0],ss[1],ss[2],ss[3],20,0x2de92c6f);\n",
    "    ss[6], ss[2] = RND(ss[3],ss[4],ss[5],ss[6],ss[7],ss[0],ss[1],ss[2],21,0x4a7484aa);\n",
    "    ss[5], ss[1] = RND(ss[2],ss[3],ss[4],ss[5],ss[6],ss[7],ss[0],ss[1],22,0x5cb0a9dc);\n",
    "    ss[4], ss[0] = RND(ss[1],ss[2],ss[3],ss[4],ss[5],ss[6],ss[7],ss[0],23,0x76f988da);\n",
    "    ss[3], ss[7] = RND(ss[0],ss[1],ss[2],ss[3],ss[4],ss[5],ss[6],ss[7],24,0x983e5152);\n",
    "    ss[2], ss[6] = RND(ss[7],ss[0],ss[1],ss[2],ss[3],ss[4],ss[5],ss[6],25,0xa831c66d);\n",
    "    ss[1], ss[5] = RND(ss[6],ss[7],ss[0],ss[1],ss[2],ss[3],ss[4],ss[5],26,0xb00327c8);\n",
    "    ss[0], ss[4] = RND(ss[5],ss[6],ss[7],ss[0],ss[1],ss[2],ss[3],ss[4],27,0xbf597fc7);\n",
    "    ss[7], ss[3] = RND(ss[4],ss[5],ss[6],ss[7],ss[0],ss[1],ss[2],ss[3],28,0xc6e00bf3);\n",
    "    ss[6], ss[2] = RND(ss[3],ss[4],ss[5],ss[6],ss[7],ss[0],ss[1],ss[2],29,0xd5a79147);\n",
    "    ss[5], ss[1] = RND(ss[2],ss[3],ss[4],ss[5],ss[6],ss[7],ss[0],ss[1],30,0x06ca6351);\n",
    "    ss[4], ss[0] = RND(ss[1],ss[2],ss[3],ss[4],ss[5],ss[6],ss[7],ss[0],31,0x14292967);\n",
    "    ss[3], ss[7] = RND(ss[0],ss[1],ss[2],ss[3],ss[4],ss[5],ss[6],ss[7],32,0x27b70a85);\n",
    "    ss[2], ss[6] = RND(ss[7],ss[0],ss[1],ss[2],ss[3],ss[4],ss[5],ss[6],33,0x2e1b2138);\n",
    "    ss[1], ss[5] = RND(ss[6],ss[7],ss[0],ss[1],ss[2],ss[3],ss[4],ss[5],34,0x4d2c6dfc);\n",
    "    ss[0], ss[4] = RND(ss[5],ss[6],ss[7],ss[0],ss[1],ss[2],ss[3],ss[4],35,0x53380d13);\n",
    "    ss[7], ss[3] = RND(ss[4],ss[5],ss[6],ss[7],ss[0],ss[1],ss[2],ss[3],36,0x650a7354);\n",
    "    ss[6], ss[2] = RND(ss[3],ss[4],ss[5],ss[6],ss[7],ss[0],ss[1],ss[2],37,0x766a0abb);\n",
    "    ss[5], ss[1] = RND(ss[2],ss[3],ss[4],ss[5],ss[6],ss[7],ss[0],ss[1],38,0x81c2c92e);\n",
    "    ss[4], ss[0] = RND(ss[1],ss[2],ss[3],ss[4],ss[5],ss[6],ss[7],ss[0],39,0x92722c85);\n",
    "    ss[3], ss[7] = RND(ss[0],ss[1],ss[2],ss[3],ss[4],ss[5],ss[6],ss[7],40,0xa2bfe8a1);\n",
    "    ss[2], ss[6] = RND(ss[7],ss[0],ss[1],ss[2],ss[3],ss[4],ss[5],ss[6],41,0xa81a664b);\n",
    "    ss[1], ss[5] = RND(ss[6],ss[7],ss[0],ss[1],ss[2],ss[3],ss[4],ss[5],42,0xc24b8b70);\n",
    "    ss[0], ss[4] = RND(ss[5],ss[6],ss[7],ss[0],ss[1],ss[2],ss[3],ss[4],43,0xc76c51a3);\n",
    "    ss[7], ss[3] = RND(ss[4],ss[5],ss[6],ss[7],ss[0],ss[1],ss[2],ss[3],44,0xd192e819);\n",
    "    ss[6], ss[2] = RND(ss[3],ss[4],ss[5],ss[6],ss[7],ss[0],ss[1],ss[2],45,0xd6990624);\n",
    "    ss[5], ss[1] = RND(ss[2],ss[3],ss[4],ss[5],ss[6],ss[7],ss[0],ss[1],46,0xf40e3585);\n",
    "    ss[4], ss[0] = RND(ss[1],ss[2],ss[3],ss[4],ss[5],ss[6],ss[7],ss[0],47,0x106aa070);\n",
    "    ss[3], ss[7] = RND(ss[0],ss[1],ss[2],ss[3],ss[4],ss[5],ss[6],ss[7],48,0x19a4c116);\n",
    "    ss[2], ss[6] = RND(ss[7],ss[0],ss[1],ss[2],ss[3],ss[4],ss[5],ss[6],49,0x1e376c08);\n",
    "    ss[1], ss[5] = RND(ss[6],ss[7],ss[0],ss[1],ss[2],ss[3],ss[4],ss[5],50,0x2748774c);\n",
    "    ss[0], ss[4] = RND(ss[5],ss[6],ss[7],ss[0],ss[1],ss[2],ss[3],ss[4],51,0x34b0bcb5);\n",
    "    ss[7], ss[3] = RND(ss[4],ss[5],ss[6],ss[7],ss[0],ss[1],ss[2],ss[3],52,0x391c0cb3);\n",
    "    ss[6], ss[2] = RND(ss[3],ss[4],ss[5],ss[6],ss[7],ss[0],ss[1],ss[2],53,0x4ed8aa4a);\n",
    "    ss[5], ss[1] = RND(ss[2],ss[3],ss[4],ss[5],ss[6],ss[7],ss[0],ss[1],54,0x5b9cca4f);\n",
    "    ss[4], ss[0] = RND(ss[1],ss[2],ss[3],ss[4],ss[5],ss[6],ss[7],ss[0],55,0x682e6ff3);\n",
    "    ss[3], ss[7] = RND(ss[0],ss[1],ss[2],ss[3],ss[4],ss[5],ss[6],ss[7],56,0x748f82ee);\n",
    "    ss[2], ss[6] = RND(ss[7],ss[0],ss[1],ss[2],ss[3],ss[4],ss[5],ss[6],57,0x78a5636f);\n",
    "    ss[1], ss[5] = RND(ss[6],ss[7],ss[0],ss[1],ss[2],ss[3],ss[4],ss[5],58,0x84c87814);\n",
    "    ss[0], ss[4] = RND(ss[5],ss[6],ss[7],ss[0],ss[1],ss[2],ss[3],ss[4],59,0x8cc70208);\n",
    "    ss[7], ss[3] = RND(ss[4],ss[5],ss[6],ss[7],ss[0],ss[1],ss[2],ss[3],60,0x90befffa);\n",
    "    ss[6], ss[2] = RND(ss[3],ss[4],ss[5],ss[6],ss[7],ss[0],ss[1],ss[2],61,0xa4506ceb);\n",
    "    ss[5], ss[1] = RND(ss[2],ss[3],ss[4],ss[5],ss[6],ss[7],ss[0],ss[1],62,0xbef9a3f7);\n",
    "    ss[4], ss[0] = RND(ss[1],ss[2],ss[3],ss[4],ss[5],ss[6],ss[7],ss[0],63,0xc67178f2);\n",
    "    \n",
    "    dig = []\n",
    "    for i, x in enumerate(sha_info['digest']):\n",
    "        dig.append( (x + ss[i]) & 0xffffffff )\n",
    "    sha_info['digest'] = dig\n",
    "\n",
    "def sha_init():\n",
    "    sha_info = new_shaobject()\n",
    "    sha_info['digest'] = [0x6A09E667, 0xBB67AE85, 0x3C6EF372, 0xA54FF53A, 0x510E527F, 0x9B05688C, 0x1F83D9AB, 0x5BE0CD19]\n",
    "    sha_info['count_lo'] = 0\n",
    "    sha_info['count_hi'] = 0\n",
    "    sha_info['local'] = 0\n",
    "    sha_info['digestsize'] = 32\n",
    "    return sha_info\n",
    "\n",
    "def sha224_init():\n",
    "    sha_info = new_shaobject()\n",
    "    sha_info['digest'] = [0xc1059ed8, 0x367cd507, 0x3070dd17, 0xf70e5939, 0xffc00b31, 0x68581511, 0x64f98fa7, 0xbefa4fa4]\n",
    "    sha_info['count_lo'] = 0\n",
    "    sha_info['count_hi'] = 0\n",
    "    sha_info['local'] = 0\n",
    "    sha_info['digestsize'] = 28\n",
    "    return sha_info\n",
    "\n",
    "def getbuf(s):\n",
    "    if isinstance(s, str):\n",
    "        return s\n",
    "    elif isinstance(s, unicode):\n",
    "        return str(s)\n",
    "    else:\n",
    "        return buffer(s)\n",
    "\n",
    "def sha_update(sha_info, buffer):\n",
    "    count = len(buffer)\n",
    "    buffer_idx = 0\n",
    "    clo = (sha_info['count_lo'] + (count << 3)) & 0xffffffff\n",
    "    if clo < sha_info['count_lo']:\n",
    "        sha_info['count_hi'] += 1\n",
    "    sha_info['count_lo'] = clo\n",
    "    \n",
    "    sha_info['count_hi'] += (count >> 29)\n",
    "    \n",
    "    if sha_info['local']:\n",
    "        i = SHA_BLOCKSIZE - sha_info['local']\n",
    "        if i > count:\n",
    "            i = count\n",
    "        \n",
    "        # copy buffer\n",
    "        for x in enumerate(buffer[buffer_idx:buffer_idx+i]):\n",
    "            sha_info['data'][sha_info['local']+x[0]] = struct.unpack('B', x[1])[0]\n",
    "        \n",
    "        count -= i\n",
    "        buffer_idx += i\n",
    "        \n",
    "        sha_info['local'] += i\n",
    "        if sha_info['local'] == SHA_BLOCKSIZE:\n",
    "            sha_transform(sha_info)\n",
    "            sha_info['local'] = 0\n",
    "        else:\n",
    "            return\n",
    "    \n",
    "    while count >= SHA_BLOCKSIZE:\n",
    "        # copy buffer\n",
    "        sha_info['data'] = [struct.unpack('B',c)[0] for c in buffer[buffer_idx:buffer_idx + SHA_BLOCKSIZE]]\n",
    "        count -= SHA_BLOCKSIZE\n",
    "        buffer_idx += SHA_BLOCKSIZE\n",
    "        sha_transform(sha_info)\n",
    "        \n",
    "    \n",
    "    # copy buffer\n",
    "    pos = sha_info['local']\n",
    "    sha_info['data'][pos:pos+count] = [struct.unpack('B',c)[0] for c in buffer[buffer_idx:buffer_idx + count]]\n",
    "    sha_info['local'] = count\n",
    "\n",
    "def sha_final(sha_info):\n",
    "    lo_bit_count = sha_info['count_lo']\n",
    "    hi_bit_count = sha_info['count_hi']\n",
    "    count = (lo_bit_count >> 3) & 0x3f\n",
    "    sha_info['data'][count] = 0x80;\n",
    "    count += 1\n",
    "    if count > SHA_BLOCKSIZE - 8:\n",
    "        # zero the bytes in data after the count\n",
    "        sha_info['data'] = sha_info['data'][:count] + ([0] * (SHA_BLOCKSIZE - count))\n",
    "        sha_transform(sha_info)\n",
    "        # zero bytes in data\n",
    "        sha_info['data'] = [0] * SHA_BLOCKSIZE\n",
    "    else:\n",
    "        sha_info['data'] = sha_info['data'][:count] + ([0] * (SHA_BLOCKSIZE - count))\n",
    "    \n",
    "    sha_info['data'][56] = (hi_bit_count >> 24) & 0xff\n",
    "    sha_info['data'][57] = (hi_bit_count >> 16) & 0xff\n",
    "    sha_info['data'][58] = (hi_bit_count >>  8) & 0xff\n",
    "    sha_info['data'][59] = (hi_bit_count >>  0) & 0xff\n",
    "    sha_info['data'][60] = (lo_bit_count >> 24) & 0xff\n",
    "    sha_info['data'][61] = (lo_bit_count >> 16) & 0xff\n",
    "    sha_info['data'][62] = (lo_bit_count >>  8) & 0xff\n",
    "    sha_info['data'][63] = (lo_bit_count >>  0) & 0xff\n",
    "    \n",
    "    sha_transform(sha_info)\n",
    "    \n",
    "    dig = []\n",
    "    for i in sha_info['digest']:\n",
    "        dig.extend([ ((i>>24) & 0xff), ((i>>16) & 0xff), ((i>>8) & 0xff), (i & 0xff) ])\n",
    "    return ''.join([chr(i) for i in dig])\n",
    "\n",
    "class sha256(object):\n",
    "    digest_size = digestsize = SHA_DIGESTSIZE\n",
    "    block_size = SHA_BLOCKSIZE\n",
    "\n",
    "    def __init__(self, s=None):\n",
    "        self._sha = sha_init()\n",
    "        if s:\n",
    "            sha_update(self._sha, getbuf(s))\n",
    "    \n",
    "    def update(self, s):\n",
    "        sha_update(self._sha, getbuf(s))\n",
    "    \n",
    "    def digest(self):\n",
    "        return sha_final(self._sha.copy())[:self._sha['digestsize']]\n",
    "    \n",
    "    def hexdigest(self):\n",
    "        return ''.join(['%.2x' % ord(i) for i in self.digest()])\n",
    "\n",
    "    def copy(self):\n",
    "        new = sha256.__new__(sha256)\n",
    "        new._sha = self._sha.copy()\n",
    "        return new\n",
    "\n",
    "class sha224(sha256):\n",
    "    digest_size = digestsize = 28\n",
    "\n",
    "    def __init__(self, s=None):\n",
    "        self._sha = sha224_init()\n",
    "        if s:\n",
    "            sha_update(self._sha, getbuf(s))\n",
    "\n",
    "    def copy(self):\n",
    "        new = sha224.__new__(sha224)\n",
    "        new._sha = self._sha.copy()\n",
    "        return new\n",
    "\n",
    "def test():\n",
    "    a_str = \"just a test string\"\n",
    "    \n",
    "    assert 'e3b0c44298fc1c149afbf4c8996fb92427ae41e4649b934ca495991b7852b855' == sha256().hexdigest()\n",
    "    assert 'd7b553c6f09ac85d142415f857c5310f3bbbe7cdd787cce4b985acedd585266f' == sha256(a_str).hexdigest()\n",
    "    assert '8113ebf33c97daa9998762aacafe750c7cefc2b2f173c90c59663a57fe626f21' == sha256(a_str*7).hexdigest()\n",
    "    \n",
    "    s = sha256(a_str)\n",
    "    s.update(a_str)\n",
    "    assert '03d9963e05a094593190b6fc794cb1a3e1ac7d7883f0b5855268afeccc70d461' == s.hexdigest()\n",
    "\n",
    "if __name__ == \"__main__\":\n",
    "    test()\n",
    "\n"
   ]
  },
  {
   "cell_type": "code",
   "execution_count": null,
   "id": "c72ba4d1-e493-469a-9b73-f5fe1f214ee1",
   "metadata": {},
   "outputs": [],
   "source": []
  }
 ],
 "metadata": {
  "kernelspec": {
   "display_name": "Python 3 (ipykernel)",
   "language": "python",
   "name": "python3"
  },
  "language_info": {
   "codemirror_mode": {
    "name": "ipython",
    "version": 3
   },
   "file_extension": ".py",
   "mimetype": "text/x-python",
   "name": "python",
   "nbconvert_exporter": "python",
   "pygments_lexer": "ipython3",
   "version": "3.8.11"
  }
 },
 "nbformat": 4,
 "nbformat_minor": 5
}
