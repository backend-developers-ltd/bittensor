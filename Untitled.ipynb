{
 "cells": [
  {
   "cell_type": "code",
   "execution_count": 1,
   "id": "cd9cd4a2-0357-45a4-9f8b-39da47db6202",
   "metadata": {},
   "outputs": [],
   "source": [
    "import bittensor"
   ]
  },
  {
   "cell_type": "code",
   "execution_count": 8,
   "id": "03c34b85-8c03-466e-9be9-55ca39b9f200",
   "metadata": {},
   "outputs": [],
   "source": [
    "dend = bittensor.dendrite()\n",
    "axon = bittensor.axon()"
   ]
  },
  {
   "cell_type": "code",
   "execution_count": 10,
   "id": "351e1b7d-c7b1-433a-a4a9-4c0e35a90e07",
   "metadata": {},
   "outputs": [],
   "source": [
    "wandb.log( dend.to_wandb() )\n",
    "wandb.log( axon.to_wandb() )"
   ]
  },
  {
   "cell_type": "code",
   "execution_count": 6,
   "id": "9e4448dd-87fd-4e21-95e6-fec5be349b0b",
   "metadata": {},
   "outputs": [
    {
     "name": "stderr",
     "output_type": "stream",
     "text": [
      "\u001b[34m\u001b[1mwandb\u001b[0m: Currently logged in as: \u001b[33mconst69\u001b[0m (use `wandb login --relogin` to force relogin)\n",
      "\u001b[34m\u001b[1mwandb\u001b[0m: wandb version 0.12.7 is available!  To upgrade, please run:\n",
      "\u001b[34m\u001b[1mwandb\u001b[0m:  $ pip install wandb --upgrade\n"
     ]
    },
    {
     "data": {
      "text/html": [
       "\n",
       "                Tracking run with wandb version 0.12.0<br/>\n",
       "                Syncing run <strong style=\"color:#cdcd00\">cerulean-forest-3</strong> to <a href=\"https://wandb.ai\" target=\"_blank\">Weights & Biases</a> <a href=\"https://docs.wandb.com/integrations/jupyter.html\" target=\"_blank\">(Documentation)</a>.<br/>\n",
       "                Project page: <a href=\"https://wandb.ai/const69/bittensor\" target=\"_blank\">https://wandb.ai/const69/bittensor</a><br/>\n",
       "                Run page: <a href=\"https://wandb.ai/const69/bittensor/runs/617d1fsm\" target=\"_blank\">https://wandb.ai/const69/bittensor/runs/617d1fsm</a><br/>\n",
       "                Run data is saved locally in <code>/Users/const/Workspace/bittensor/wandb/run-20211124_161726-617d1fsm</code><br/><br/>\n",
       "            "
      ],
      "text/plain": [
       "<IPython.core.display.HTML object>"
      ]
     },
     "metadata": {},
     "output_type": "display_data"
    },
    {
     "data": {
      "text/html": [
       "<h1>Run(617d1fsm)</h1><iframe src=\"https://wandb.ai/const69/bittensor/runs/617d1fsm\" style=\"border:none;width:100%;height:400px\"></iframe>"
      ],
      "text/plain": [
       "<wandb.sdk.wandb_run.Run at 0x13e208760>"
      ]
     },
     "execution_count": 6,
     "metadata": {},
     "output_type": "execute_result"
    }
   ],
   "source": [
    "wandb.init()"
   ]
  },
  {
   "cell_type": "code",
   "execution_count": 5,
   "id": "5e815d82-fc65-43ac-84a6-06ec20869925",
   "metadata": {},
   "outputs": [],
   "source": [
    "import wandb"
   ]
  },
  {
   "cell_type": "code",
   "execution_count": null,
   "id": "5741b9bf-e6dd-49f0-89d1-fd333387e588",
   "metadata": {},
   "outputs": [],
   "source": []
  }
 ],
 "metadata": {
  "kernelspec": {
   "display_name": "Python 3 (ipykernel)",
   "language": "python",
   "name": "python3"
  },
  "language_info": {
   "codemirror_mode": {
    "name": "ipython",
    "version": 3
   },
   "file_extension": ".py",
   "mimetype": "text/x-python",
   "name": "python",
   "nbconvert_exporter": "python",
   "pygments_lexer": "ipython3",
   "version": "3.8.12"
  }
 },
 "nbformat": 4,
 "nbformat_minor": 5
}
