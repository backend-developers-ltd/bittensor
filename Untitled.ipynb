{
 "cells": [
  {
   "cell_type": "code",
   "execution_count": 56,
   "metadata": {},
   "outputs": [],
   "source": [
    "# Overwrites the values from nested dictionary A with nested dictionary B\n",
    "def overwrite(items_a, items_b):\n",
    "    for k, v in items_a.items():\n",
    "        if k in items_b:\n",
    "            if isinstance(v, dict):\n",
    "                overwrite(v, items_b[k])\n",
    "            else:\n",
    "                if items_b != None:\n",
    "                    items_a[k] = items_b[k]\n",
    "    return items_a\n",
    "\n",
    "\n",
    "def add(items_a, items_b):\n",
    "    for k, v in items_b.items():\n",
    "        if k not in items_a:\n",
    "            items_a[k] = items_b[k]\n",
    "        if k in items_a:\n",
    "            if isinstance(v, dict):\n",
    "                add(items_a[k], items_b[k])\n",
    "    return items_a\n",
    "\n",
    "def overwrite_add(items_a, items_b):\n",
    "    items_a = overwrite(items_a, items_b)\n",
    "    items_a = add(items_a, items_b)\n",
    "    return items_a\n",
    "\n",
    "def set_nested(obj: object, nested_dict):\n",
    "    for key, value in nested_dict.items():\n",
    "        setattr(obj, key, value)\n",
    "        #if isinstance(value, dict):\n",
    "        #    set_nested(value, nested_dict[key])\n",
    "        "
   ]
  },
  {
   "cell_type": "code",
   "execution_count": 90,
   "metadata": {},
   "outputs": [
    {
     "name": "stdout",
     "output_type": "stream",
     "text": [
      "{'neuron_path': '/bittensor/neurons/mnist', 'axon_port': 8080, 'chain_endpoint': '192.168.123'}\n"
     ]
    }
   ],
   "source": [
    "import argparse\n",
    "\n",
    "import yaml\n",
    "from munch import Munch\n",
    "\n",
    "with open('defaults.yaml', 'r') as f:\n",
    "    try:\n",
    "        items = yaml.safe_load(f)\n",
    "    except yaml.YAMLError as exc:\n",
    "        print(exc)\n",
    "        \n",
    "with open('defaults2.yaml', 'r') as f:\n",
    "    try:\n",
    "        items2 = yaml.safe_load(f)\n",
    "    except yaml.YAMLError as exc:\n",
    "        print(exc)\n",
    "        \n",
    "return munch.munchify(cfg) \n",
    "        \n",
    "itemsm = Munch(items)\n",
    "\n",
    "print (itemsm.neuron)\n",
    "\n",
    "\n",
    "\n",
    "\n",
    "\n"
   ]
  },
  {
   "cell_type": "code",
   "execution_count": 91,
   "metadata": {},
   "outputs": [
    {
     "ename": "SyntaxError",
     "evalue": "invalid syntax (<ipython-input-91-c6ca1433e24f>, line 28)",
     "output_type": "error",
     "traceback": [
      "\u001b[0;36m  File \u001b[0;32m\"<ipython-input-91-c6ca1433e24f>\"\u001b[0;36m, line \u001b[0;32m28\u001b[0m\n\u001b[0;31m    parser.add_argument('--config_file', default=None help='path to a configuration file')\u001b[0m\n\u001b[0m                                                         ^\u001b[0m\n\u001b[0;31mSyntaxError\u001b[0m\u001b[0;31m:\u001b[0m invalid syntax\n"
     ]
    }
   ],
   "source": [
    "class Config:\n",
    "    def load (config_path: str = None):\n",
    "        \n",
    "        \n",
    "        # 1. Load defaults from defaults.yaml.\n",
    "        if not os.path.isfile('defaults.yaml'):\n",
    "                raise FileNotFoundError('Cannot find default configuration at defaults.yaml')\n",
    "        with open('defaults.yaml', 'r') as f:\n",
    "            try:\n",
    "                config_items = yaml.safe_load(f)\n",
    "            except yaml.YAMLError as exc:\n",
    "                print(exc)\n",
    "        \n",
    "        # 2. Load items from optional passed config_path\n",
    "        passed_items = None\n",
    "        if config_path != None:\n",
    "            if not os.path.isfile(config_path):\n",
    "                raise FileNotFoundError('Cannot find a configuration file at', config_path)\n",
    "            with open(config_path, 'r') as f:\n",
    "                try:\n",
    "                    passed_items = yaml.safe_load(f)\n",
    "                except yaml.YAMLError as exc:\n",
    "                    print(exc)\n",
    "            \n",
    "        # 3. Load items from optional passed --config_path\n",
    "        commandline_items = None\n",
    "        parser = argparse.ArgumentParser()\n",
    "        parser.add_argument('--config_file', default=None help='path to a configuration file')\n",
    "        params = parser.parse_args()\n",
    "        if params != None:\n",
    "            if not os.path.isfile(params.config_file):\n",
    "                raise FileNotFoundError('Cannot find a configuration file at', params.config_file)\n",
    "            else:\n",
    "                with open(params.config_file, 'r') as f:\n",
    "                    commandline_items = yaml.safe_load(f)\n",
    "                    \n",
    "                    \n",
    "        # 3. Optionally overwrite defaults.\n",
    "        if passed_items != None:\n",
    "            config_items = overwrite_add(config_items, overwrite_items)\n",
    "\n",
    "            \n",
    "        if overwrite_items != None:\n",
    "            config_items = overwrite_add(config_items, overwrite_items)\n",
    "\n",
    "        \n",
    "        # 4. Validate config items.\n",
    "        validate_config(config_items)\n",
    "        \n",
    "        \n",
    "        items = munch.munchify(items)\n",
    "        \n",
    "    \n",
    "        items.neuron.training_params.learning_rate\n",
    "        \n",
    "        # 8. Set nested items to self.\n",
    "        set_nested(self, items)\n",
    "\n",
    "        "
   ]
  },
  {
   "cell_type": "code",
   "execution_count": 65,
   "metadata": {},
   "outputs": [],
   "source": [
    "c = Config(config_path = 'defaults2.yaml')"
   ]
  },
  {
   "cell_type": "code",
   "execution_count": 68,
   "metadata": {},
   "outputs": [
    {
     "ename": "AttributeError",
     "evalue": "'dict' object has no attribute 'neuron_path'",
     "output_type": "error",
     "traceback": [
      "\u001b[0;31m---------------------------------------------------------------------------\u001b[0m",
      "\u001b[0;31mAttributeError\u001b[0m                            Traceback (most recent call last)",
      "\u001b[0;32m<ipython-input-68-98d835b1ccd2>\u001b[0m in \u001b[0;36m<module>\u001b[0;34m\u001b[0m\n\u001b[0;32m----> 1\u001b[0;31m \u001b[0mc\u001b[0m\u001b[0;34m.\u001b[0m\u001b[0mneuron\u001b[0m\u001b[0;34m.\u001b[0m\u001b[0mneuron_path\u001b[0m\u001b[0;34m\u001b[0m\u001b[0;34m\u001b[0m\u001b[0m\n\u001b[0m",
      "\u001b[0;31mAttributeError\u001b[0m: 'dict' object has no attribute 'neuron_path'"
     ]
    }
   ],
   "source": [
    "c.neuron.neuron_path"
   ]
  },
  {
   "cell_type": "code",
   "execution_count": null,
   "metadata": {},
   "outputs": [],
   "source": []
  }
 ],
 "metadata": {
  "kernelspec": {
   "display_name": "Python 3",
   "language": "python",
   "name": "python3"
  },
  "language_info": {
   "codemirror_mode": {
    "name": "ipython",
    "version": 3
   },
   "file_extension": ".py",
   "mimetype": "text/x-python",
   "name": "python",
   "nbconvert_exporter": "python",
   "pygments_lexer": "ipython3",
   "version": "3.7.3"
  }
 },
 "nbformat": 4,
 "nbformat_minor": 4
}
